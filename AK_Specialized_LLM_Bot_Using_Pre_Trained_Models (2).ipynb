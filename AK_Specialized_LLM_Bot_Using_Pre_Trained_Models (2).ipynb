{
  "metadata": {
    "kernelspec": {
      "language": "python",
      "display_name": "Python 3",
      "name": "python3"
    },
    "language_info": {
      "name": "python",
      "version": "3.10.13",
      "mimetype": "text/x-python",
      "codemirror_mode": {
        "name": "ipython",
        "version": 3
      },
      "pygments_lexer": "ipython3",
      "nbconvert_exporter": "python",
      "file_extension": ".py"
    },
    "kaggle": {
      "accelerator": "gpu",
      "dataSources": [
        {
          "sourceId": 877819,
          "sourceType": "datasetVersion",
          "datasetId": 467821
        },
        {
          "sourceId": 5024271,
          "sourceType": "datasetVersion",
          "datasetId": 2915525
        }
      ],
      "dockerImageVersionId": 30699,
      "isInternetEnabled": true,
      "language": "python",
      "sourceType": "notebook",
      "isGpuEnabled": true
    },
    "colab": {
      "provenance": []
    }
  },
  "nbformat_minor": 0,
  "nbformat": 4,
  "cells": [
    {
      "cell_type": "markdown",
      "source": [
        "### **Project Name**    - Specialized LLM Bot Using Pre-Trained Models\n",
        "\n"
      ],
      "metadata": {
        "id": "vncDsAP0Gaoa"
      }
    },
    {
      "cell_type": "markdown",
      "source": [
        "\n",
        "##### **Contribution**    - Individual\n"
      ],
      "metadata": {
        "id": "beRrZCGUAJYm"
      }
    },
    {
      "cell_type": "markdown",
      "source": [
        "###**Project Summary -**"
      ],
      "metadata": {
        "id": "VRo4vjSmIBqq"
      }
    },
    {
      "cell_type": "markdown",
      "source": [
        "Chatbots are AI-powered programs that simulate human conversation. They can answer questions, perform tasks, and engage with users, making technology more accessible and efficient.\n",
        "we will walk through this steps:\n",
        "    \n",
        "1. Load the data<br>\n",
        "2. EDA and analyze the data for more insights\n",
        "3. Split the data into train, test and validation datasets<br>\n",
        "4. Load BERT Pretrained model and tokenizer<br>\n",
        "5. Transform the data to numerical format<br>\n",
        "6. Train BERT Pretrained model on our custome dataset<br>\n",
        "7. Evaluate the model <br>\n",
        "8. Save the model<br>\n",
        "9. Finally, Load The model and start the conversation"
      ],
      "metadata": {
        "id": "5APZAAC-UujW"
      }
    },
    {
      "cell_type": "markdown",
      "source": [
        "###**GitHub Link -**"
      ],
      "metadata": {
        "id": "HobLBsRSIjK3"
      }
    },
    {
      "cell_type": "markdown",
      "source": [
        "Link: https://github.com/asmakhan0212/DL-for-NLP"
      ],
      "metadata": {
        "id": "dNi59dg1InvG"
      }
    },
    {
      "cell_type": "markdown",
      "source": [
        "###**Import Libraries**"
      ],
      "metadata": {
        "id": "2oY_i0P6I9ft"
      }
    },
    {
      "cell_type": "markdown",
      "source": [
        "import warnings\n",
        "warnings.filterwarnings('ignore')"
      ],
      "metadata": {
        "id": "iUxF6R1uUujW"
      }
    },
    {
      "cell_type": "code",
      "source": [
        "import json\n",
        "import numpy as np\n",
        "import pandas as pd\n",
        "import random\n",
        "from matplotlib import pyplot as plt\n",
        "import seaborn as sns\n",
        "from wordcloud import WordCloud,STOPWORDS\n",
        "import missingno as msno\n",
        "\n",
        "from sklearn.feature_extraction.text import CountVectorizer\n",
        "from sklearn.model_selection import train_test_split\n",
        "from sklearn.metrics import accuracy_score, precision_recall_fscore_support\n",
        "\n",
        "# from keras.preprocessing import text\n",
        "import keras\n",
        "from keras.models import Sequential\n",
        "from keras.layers import Dense,Embedding,LSTM,Dropout\n",
        "from keras.callbacks import ReduceLROnPlateau\n",
        "\n",
        "from tensorflow.keras.preprocessing.sequence import pad_sequences\n",
        "import nltk\n",
        "from nltk import word_tokenize\n",
        "from nltk.stem import PorterStemmer\n",
        "\n",
        "import torch\n",
        "from torch.utils.data import Dataset\n",
        "\n",
        "from transformers import AutoTokenizer, TFAutoModelForSequenceClassification\n",
        "from transformers import pipeline\n",
        "from transformers import DistilBertTokenizerFast\n",
        "from transformers import BertForSequenceClassification, BertTokenizerFast\n",
        "# from transformers import TFDistilBertForSequenceClassification, TFTrainer, TFTrainingArguments\n",
        "from transformers import BertTokenizer, TFBertForSequenceClassification, BertConfig\n",
        "from transformers import TrainingArguments, Trainer"
      ],
      "metadata": {
        "_uuid": "8f2839f25d086af736a60e9eeb907d3b93b6e0e5",
        "_cell_guid": "b1076dfc-b9ad-4769-8c92-a6c4dae69d19",
        "execution": {
          "iopub.status.busy": "2024-04-26T17:55:07.093562Z",
          "iopub.execute_input": "2024-04-26T17:55:07.09425Z",
          "iopub.status.idle": "2024-04-26T17:55:07.565387Z",
          "shell.execute_reply.started": "2024-04-26T17:55:07.094198Z",
          "shell.execute_reply": "2024-04-26T17:55:07.564364Z"
        },
        "trusted": true,
        "id": "Yxx9P0E5UujX"
      },
      "execution_count": 74,
      "outputs": []
    },
    {
      "cell_type": "code",
      "source": [
        "import json\n",
        "import numpy as np\n",
        "import pandas as pd\n",
        "import random\n",
        "from matplotlib import pyplot as plt\n",
        "import seaborn as sns\n",
        "from wordcloud import WordCloud, STOPWORDS\n",
        "import missingno as msno\n",
        "from sklearn.feature_extraction.text import CountVectorizer\n",
        "from sklearn.model_selection import train_test_split\n",
        "from sklearn.metrics import accuracy_score, precision_recall_fscore_support\n",
        "import keras\n",
        "from keras.models import Sequential\n",
        "from keras.layers import Dense, Embedding, LSTM, Dropout\n",
        "from keras.callbacks import ReduceLROnPlateau\n",
        "from tensorflow.keras.preprocessing.sequence import pad_sequences\n",
        "import nltk\n",
        "from nltk import word_tokenize\n",
        "from nltk.stem import PorterStemmer\n",
        "import torch\n",
        "from torch.utils.data import Dataset\n",
        "from transformers import AutoTokenizer, TFAutoModelForSequenceClassification\n",
        "from transformers import pipeline\n",
        "from transformers import DistilBertTokenizerFast\n",
        "from transformers import BertForSequenceClassification, BertTokenizerFast\n",
        "from transformers import TFDistilBertForSequenceClassification\n",
        "# from transformers.trainer_tf import TFTrainer, TFTrainingArguments\n",
        "from transformers import BertTokenizer, TFBertForSequenceClassification, BertConfig\n",
        "from transformers import TrainingArguments, Trainer"
      ],
      "metadata": {
        "execution": {
          "iopub.status.busy": "2024-04-26T17:55:14.33909Z",
          "iopub.execute_input": "2024-04-26T17:55:14.339493Z",
          "iopub.status.idle": "2024-04-26T17:55:14.349153Z",
          "shell.execute_reply.started": "2024-04-26T17:55:14.339461Z",
          "shell.execute_reply": "2024-04-26T17:55:14.347878Z"
        },
        "trusted": true,
        "id": "AJm7oe1fUujX"
      },
      "execution_count": 75,
      "outputs": []
    },
    {
      "cell_type": "code",
      "source": [
        "# IMPORTANT: RUN THIS CELL IN ORDER TO IMPORT YOUR KAGGLE DATA SOURCES,\n",
        "# THEN FEEL FREE TO DELETE THIS CELL.\n",
        "# NOTE: THIS NOTEBOOK ENVIRONMENT DIFFERS FROM KAGGLE'S PYTHON\n",
        "# ENVIRONMENT SO THERE MAY BE MISSING LIBRARIES USED BY YOUR\n",
        "# NOTEBOOK.\n",
        "import kagglehub\n",
        "icw123_glove_twitter_path = kagglehub.dataset_download('icw123/glove-twitter')\n",
        "grafstor_simple_dialogs_for_chatbot_path = kagglehub.dataset_download('grafstor/simple-dialogs-for-chatbot')\n",
        "niraliivaghani_chatbot_dataset_path = kagglehub.dataset_download('niraliivaghani/chatbot-dataset')\n",
        "\n",
        "print('Data source import complete.')\n"
      ],
      "metadata": {
        "colab": {
          "base_uri": "https://localhost:8080/"
        },
        "id": "NIqdU17GgnK3",
        "outputId": "656e1f53-a9dc-419a-837a-40fdec4ebd7e"
      },
      "execution_count": 76,
      "outputs": [
        {
          "output_type": "stream",
          "name": "stdout",
          "text": [
            "Warning: Looks like you're using an outdated `kagglehub` version (installed: 0.3.5), please consider upgrading to the latest version (0.3.6).\n",
            "Warning: Looks like you're using an outdated `kagglehub` version (installed: 0.3.5), please consider upgrading to the latest version (0.3.6).\n",
            "Warning: Looks like you're using an outdated `kagglehub` version (installed: 0.3.5), please consider upgrading to the latest version (0.3.6).\n",
            "Data source import complete.\n"
          ]
        }
      ]
    },
    {
      "cell_type": "code",
      "source": [
        "import json\n",
        "import numpy as np\n",
        "import pandas as pd\n",
        "import random\n",
        "from matplotlib import pyplot as plt\n",
        "import seaborn as sns\n",
        "from wordcloud import WordCloud,STOPWORDS\n",
        "import missingno as msno\n",
        "\n",
        "from sklearn.feature_extraction.text import CountVectorizer\n",
        "from sklearn.model_selection import train_test_split\n",
        "from sklearn.metrics import accuracy_score, precision_recall_fscore_support\n",
        "\n",
        "# from keras.preprocessing import text\n",
        "import keras\n",
        "from keras.models import Sequential\n",
        "from keras.layers import Dense,Embedding,LSTM,Dropout\n",
        "from keras.callbacks import ReduceLROnPlateau\n",
        "\n",
        "from tensorflow.keras.preprocessing.sequence import pad_sequences\n",
        "import nltk\n",
        "from nltk import word_tokenize\n",
        "from nltk.stem import PorterStemmer\n",
        "\n",
        "import torch\n",
        "from torch.utils.data import Dataset\n",
        "\n",
        "from transformers import AutoTokenizer, TFAutoModelForSequenceClassification\n",
        "from transformers import pipeline\n",
        "from transformers import DistilBertTokenizerFast\n",
        "from transformers import BertForSequenceClassification, BertTokenizerFast\n",
        "# from transformers import TFDistilBertForSequenceClassification, TFTrainer, TFTrainingArguments\n",
        "from transformers import BertTokenizer, TFBertForSequenceClassification, BertConfig\n",
        "from transformers import TrainingArguments, Trainer\n",
        "\n",
        "\n",
        "def load_json_file(filename):\n",
        "    \"\"\"Loads a JSON file and handles potential decoding errors.\n",
        "\n",
        "    Args:\n",
        "        filename (str): Path to the JSON file.\n",
        "\n",
        "    Returns:\n",
        "        dict: Loaded JSON data, or an empty dictionary if decoding fails.\n",
        "    \"\"\"\n",
        "    try:\n",
        "        with open(filename, 'r', encoding='utf-8') as f:  # Add encoding='utf-8'\n",
        "            data = json.load(f)\n",
        "        return data\n",
        "    except json.JSONDecodeError as e:\n",
        "        print(f\"Error decoding JSON file: {e}\")\n",
        "        # You can handle the error by returning an empty dictionary or raising an exception\n",
        "        return {}  # Returning an empty dictionary to avoid halting the execution\n",
        "\n",
        "\n",
        "filename = '/content/drive/MyDrive/DL for NLP/dialogs.txt'\n",
        "\n",
        "intents = load_json_file(filename)"
      ],
      "metadata": {
        "colab": {
          "base_uri": "https://localhost:8080/"
        },
        "id": "ADAs3ZZmjok7",
        "outputId": "ad136c24-0ff3-446a-d0c7-2bb72e1335ab"
      },
      "execution_count": 77,
      "outputs": [
        {
          "output_type": "stream",
          "name": "stdout",
          "text": [
            "Error decoding JSON file: Expecting value: line 1 column 1 (char 0)\n"
          ]
        }
      ]
    },
    {
      "cell_type": "code",
      "source": [
        "from google.colab import drive\n",
        "drive.mount('/content/drive')"
      ],
      "metadata": {
        "colab": {
          "base_uri": "https://localhost:8080/"
        },
        "id": "LMKRB5PyW0fW",
        "outputId": "f6adc57c-a5f4-4181-9cc1-b79772c13588"
      },
      "execution_count": 78,
      "outputs": [
        {
          "output_type": "stream",
          "name": "stdout",
          "text": [
            "Drive already mounted at /content/drive; to attempt to forcibly remount, call drive.mount(\"/content/drive\", force_remount=True).\n"
          ]
        }
      ]
    },
    {
      "cell_type": "markdown",
      "source": [
        "<a id=\"3.2\"></a>\n",
        "### <b>3.2 <span style='color:#B21010'>||</span> Extract Info from the Json data file and Store it in dataframe</b>"
      ],
      "metadata": {
        "id": "o3WcIfl_UujY"
      }
    },
    {
      "cell_type": "code",
      "source": [
        "def create_df():\n",
        "    df = pd.DataFrame({\n",
        "        'Pattern' : [],\n",
        "        'Tag' : []\n",
        "    })\n",
        "\n",
        "    return df\n",
        "\n",
        "df = create_df()\n",
        "df"
      ],
      "metadata": {
        "execution": {
          "iopub.status.busy": "2024-04-26T17:55:21.341441Z",
          "iopub.execute_input": "2024-04-26T17:55:21.341993Z",
          "iopub.status.idle": "2024-04-26T17:55:21.352271Z",
          "shell.execute_reply.started": "2024-04-26T17:55:21.341942Z",
          "shell.execute_reply": "2024-04-26T17:55:21.351165Z"
        },
        "trusted": true,
        "id": "qsvk5JRSUujY",
        "colab": {
          "base_uri": "https://localhost:8080/",
          "height": 89
        },
        "outputId": "532e37bf-bd8a-4599-d106-8c653d5142dd"
      },
      "execution_count": 79,
      "outputs": [
        {
          "output_type": "execute_result",
          "data": {
            "text/plain": [
              "Empty DataFrame\n",
              "Columns: [Pattern, Tag]\n",
              "Index: []"
            ],
            "text/html": [
              "\n",
              "  <div id=\"df-fbbfdfc8-ee40-497e-b5c5-09342c92fc77\" class=\"colab-df-container\">\n",
              "    <div>\n",
              "<style scoped>\n",
              "    .dataframe tbody tr th:only-of-type {\n",
              "        vertical-align: middle;\n",
              "    }\n",
              "\n",
              "    .dataframe tbody tr th {\n",
              "        vertical-align: top;\n",
              "    }\n",
              "\n",
              "    .dataframe thead th {\n",
              "        text-align: right;\n",
              "    }\n",
              "</style>\n",
              "<table border=\"1\" class=\"dataframe\">\n",
              "  <thead>\n",
              "    <tr style=\"text-align: right;\">\n",
              "      <th></th>\n",
              "      <th>Pattern</th>\n",
              "      <th>Tag</th>\n",
              "    </tr>\n",
              "  </thead>\n",
              "  <tbody>\n",
              "  </tbody>\n",
              "</table>\n",
              "</div>\n",
              "    <div class=\"colab-df-buttons\">\n",
              "\n",
              "  <div class=\"colab-df-container\">\n",
              "    <button class=\"colab-df-convert\" onclick=\"convertToInteractive('df-fbbfdfc8-ee40-497e-b5c5-09342c92fc77')\"\n",
              "            title=\"Convert this dataframe to an interactive table.\"\n",
              "            style=\"display:none;\">\n",
              "\n",
              "  <svg xmlns=\"http://www.w3.org/2000/svg\" height=\"24px\" viewBox=\"0 -960 960 960\">\n",
              "    <path d=\"M120-120v-720h720v720H120Zm60-500h600v-160H180v160Zm220 220h160v-160H400v160Zm0 220h160v-160H400v160ZM180-400h160v-160H180v160Zm440 0h160v-160H620v160ZM180-180h160v-160H180v160Zm440 0h160v-160H620v160Z\"/>\n",
              "  </svg>\n",
              "    </button>\n",
              "\n",
              "  <style>\n",
              "    .colab-df-container {\n",
              "      display:flex;\n",
              "      gap: 12px;\n",
              "    }\n",
              "\n",
              "    .colab-df-convert {\n",
              "      background-color: #E8F0FE;\n",
              "      border: none;\n",
              "      border-radius: 50%;\n",
              "      cursor: pointer;\n",
              "      display: none;\n",
              "      fill: #1967D2;\n",
              "      height: 32px;\n",
              "      padding: 0 0 0 0;\n",
              "      width: 32px;\n",
              "    }\n",
              "\n",
              "    .colab-df-convert:hover {\n",
              "      background-color: #E2EBFA;\n",
              "      box-shadow: 0px 1px 2px rgba(60, 64, 67, 0.3), 0px 1px 3px 1px rgba(60, 64, 67, 0.15);\n",
              "      fill: #174EA6;\n",
              "    }\n",
              "\n",
              "    .colab-df-buttons div {\n",
              "      margin-bottom: 4px;\n",
              "    }\n",
              "\n",
              "    [theme=dark] .colab-df-convert {\n",
              "      background-color: #3B4455;\n",
              "      fill: #D2E3FC;\n",
              "    }\n",
              "\n",
              "    [theme=dark] .colab-df-convert:hover {\n",
              "      background-color: #434B5C;\n",
              "      box-shadow: 0px 1px 3px 1px rgba(0, 0, 0, 0.15);\n",
              "      filter: drop-shadow(0px 1px 2px rgba(0, 0, 0, 0.3));\n",
              "      fill: #FFFFFF;\n",
              "    }\n",
              "  </style>\n",
              "\n",
              "    <script>\n",
              "      const buttonEl =\n",
              "        document.querySelector('#df-fbbfdfc8-ee40-497e-b5c5-09342c92fc77 button.colab-df-convert');\n",
              "      buttonEl.style.display =\n",
              "        google.colab.kernel.accessAllowed ? 'block' : 'none';\n",
              "\n",
              "      async function convertToInteractive(key) {\n",
              "        const element = document.querySelector('#df-fbbfdfc8-ee40-497e-b5c5-09342c92fc77');\n",
              "        const dataTable =\n",
              "          await google.colab.kernel.invokeFunction('convertToInteractive',\n",
              "                                                    [key], {});\n",
              "        if (!dataTable) return;\n",
              "\n",
              "        const docLinkHtml = 'Like what you see? Visit the ' +\n",
              "          '<a target=\"_blank\" href=https://colab.research.google.com/notebooks/data_table.ipynb>data table notebook</a>'\n",
              "          + ' to learn more about interactive tables.';\n",
              "        element.innerHTML = '';\n",
              "        dataTable['output_type'] = 'display_data';\n",
              "        await google.colab.output.renderOutput(dataTable, element);\n",
              "        const docLink = document.createElement('div');\n",
              "        docLink.innerHTML = docLinkHtml;\n",
              "        element.appendChild(docLink);\n",
              "      }\n",
              "    </script>\n",
              "  </div>\n",
              "\n",
              "\n",
              "  <div id=\"id_82d2a029-eeaa-4f70-8b31-552e30deedb7\">\n",
              "    <style>\n",
              "      .colab-df-generate {\n",
              "        background-color: #E8F0FE;\n",
              "        border: none;\n",
              "        border-radius: 50%;\n",
              "        cursor: pointer;\n",
              "        display: none;\n",
              "        fill: #1967D2;\n",
              "        height: 32px;\n",
              "        padding: 0 0 0 0;\n",
              "        width: 32px;\n",
              "      }\n",
              "\n",
              "      .colab-df-generate:hover {\n",
              "        background-color: #E2EBFA;\n",
              "        box-shadow: 0px 1px 2px rgba(60, 64, 67, 0.3), 0px 1px 3px 1px rgba(60, 64, 67, 0.15);\n",
              "        fill: #174EA6;\n",
              "      }\n",
              "\n",
              "      [theme=dark] .colab-df-generate {\n",
              "        background-color: #3B4455;\n",
              "        fill: #D2E3FC;\n",
              "      }\n",
              "\n",
              "      [theme=dark] .colab-df-generate:hover {\n",
              "        background-color: #434B5C;\n",
              "        box-shadow: 0px 1px 3px 1px rgba(0, 0, 0, 0.15);\n",
              "        filter: drop-shadow(0px 1px 2px rgba(0, 0, 0, 0.3));\n",
              "        fill: #FFFFFF;\n",
              "      }\n",
              "    </style>\n",
              "    <button class=\"colab-df-generate\" onclick=\"generateWithVariable('df')\"\n",
              "            title=\"Generate code using this dataframe.\"\n",
              "            style=\"display:none;\">\n",
              "\n",
              "  <svg xmlns=\"http://www.w3.org/2000/svg\" height=\"24px\"viewBox=\"0 0 24 24\"\n",
              "       width=\"24px\">\n",
              "    <path d=\"M7,19H8.4L18.45,9,17,7.55,7,17.6ZM5,21V16.75L18.45,3.32a2,2,0,0,1,2.83,0l1.4,1.43a1.91,1.91,0,0,1,.58,1.4,1.91,1.91,0,0,1-.58,1.4L9.25,21ZM18.45,9,17,7.55Zm-12,3A5.31,5.31,0,0,0,4.9,8.1,5.31,5.31,0,0,0,1,6.5,5.31,5.31,0,0,0,4.9,4.9,5.31,5.31,0,0,0,6.5,1,5.31,5.31,0,0,0,8.1,4.9,5.31,5.31,0,0,0,12,6.5,5.46,5.46,0,0,0,6.5,12Z\"/>\n",
              "  </svg>\n",
              "    </button>\n",
              "    <script>\n",
              "      (() => {\n",
              "      const buttonEl =\n",
              "        document.querySelector('#id_82d2a029-eeaa-4f70-8b31-552e30deedb7 button.colab-df-generate');\n",
              "      buttonEl.style.display =\n",
              "        google.colab.kernel.accessAllowed ? 'block' : 'none';\n",
              "\n",
              "      buttonEl.onclick = () => {\n",
              "        google.colab.notebook.generateWithVariable('df');\n",
              "      }\n",
              "      })();\n",
              "    </script>\n",
              "  </div>\n",
              "\n",
              "    </div>\n",
              "  </div>\n"
            ],
            "application/vnd.google.colaboratory.intrinsic+json": {
              "type": "dataframe",
              "variable_name": "df",
              "summary": "{\n  \"name\": \"df\",\n  \"rows\": 0,\n  \"fields\": [\n    {\n      \"column\": \"Pattern\",\n      \"properties\": {\n        \"dtype\": \"number\",\n        \"std\": null,\n        \"min\": null,\n        \"max\": null,\n        \"num_unique_values\": 0,\n        \"samples\": [],\n        \"semantic_type\": \"\",\n        \"description\": \"\"\n      }\n    },\n    {\n      \"column\": \"Tag\",\n      \"properties\": {\n        \"dtype\": \"number\",\n        \"std\": null,\n        \"min\": null,\n        \"max\": null,\n        \"num_unique_values\": 0,\n        \"samples\": [],\n        \"semantic_type\": \"\",\n        \"description\": \"\"\n      }\n    }\n  ]\n}"
            }
          },
          "metadata": {},
          "execution_count": 79
        }
      ]
    },
    {
      "cell_type": "code",
      "source": [
        "def load_json_file(filename):\n",
        "    \"\"\"Loads a JSON file and handles potential decoding errors.\n",
        "\n",
        "    Args:\n",
        "        filename (str): Path to the JSON file.\n",
        "\n",
        "    Returns:\n",
        "        dict: Loaded JSON data, or an empty dictionary if decoding fails.\n",
        "    \"\"\"\n",
        "    try:\n",
        "        with open(filename, 'r', encoding='utf-8') as f:  # Add encoding='utf-8'\n",
        "            data = json.load(f)\n",
        "        return data\n",
        "    except json.JSONDecodeError:  # Properly indented except block\n",
        "        return {}  # Properly indented return statement"
      ],
      "metadata": {
        "id": "e4aajEyPkg0Y"
      },
      "execution_count": 80,
      "outputs": []
    },
    {
      "cell_type": "code",
      "source": [
        "df2 = df.copy()\n",
        "df2.head()"
      ],
      "metadata": {
        "execution": {
          "iopub.status.busy": "2024-04-26T17:55:22.164655Z",
          "iopub.execute_input": "2024-04-26T17:55:22.165032Z",
          "iopub.status.idle": "2024-04-26T17:55:22.17541Z",
          "shell.execute_reply.started": "2024-04-26T17:55:22.165003Z",
          "shell.execute_reply": "2024-04-26T17:55:22.174401Z"
        },
        "trusted": true,
        "id": "Sw0MQb_XUujZ",
        "colab": {
          "base_uri": "https://localhost:8080/",
          "height": 53
        },
        "outputId": "41645be9-4587-47ec-b829-38b6a000b2ae"
      },
      "execution_count": 81,
      "outputs": [
        {
          "output_type": "execute_result",
          "data": {
            "text/plain": [
              "Empty DataFrame\n",
              "Columns: [Pattern, Tag]\n",
              "Index: []"
            ],
            "text/html": [
              "\n",
              "  <div id=\"df-798fb53f-2d28-4a35-9ab1-6bc12614e507\" class=\"colab-df-container\">\n",
              "    <div>\n",
              "<style scoped>\n",
              "    .dataframe tbody tr th:only-of-type {\n",
              "        vertical-align: middle;\n",
              "    }\n",
              "\n",
              "    .dataframe tbody tr th {\n",
              "        vertical-align: top;\n",
              "    }\n",
              "\n",
              "    .dataframe thead th {\n",
              "        text-align: right;\n",
              "    }\n",
              "</style>\n",
              "<table border=\"1\" class=\"dataframe\">\n",
              "  <thead>\n",
              "    <tr style=\"text-align: right;\">\n",
              "      <th></th>\n",
              "      <th>Pattern</th>\n",
              "      <th>Tag</th>\n",
              "    </tr>\n",
              "  </thead>\n",
              "  <tbody>\n",
              "  </tbody>\n",
              "</table>\n",
              "</div>\n",
              "    <div class=\"colab-df-buttons\">\n",
              "\n",
              "  <div class=\"colab-df-container\">\n",
              "    <button class=\"colab-df-convert\" onclick=\"convertToInteractive('df-798fb53f-2d28-4a35-9ab1-6bc12614e507')\"\n",
              "            title=\"Convert this dataframe to an interactive table.\"\n",
              "            style=\"display:none;\">\n",
              "\n",
              "  <svg xmlns=\"http://www.w3.org/2000/svg\" height=\"24px\" viewBox=\"0 -960 960 960\">\n",
              "    <path d=\"M120-120v-720h720v720H120Zm60-500h600v-160H180v160Zm220 220h160v-160H400v160Zm0 220h160v-160H400v160ZM180-400h160v-160H180v160Zm440 0h160v-160H620v160ZM180-180h160v-160H180v160Zm440 0h160v-160H620v160Z\"/>\n",
              "  </svg>\n",
              "    </button>\n",
              "\n",
              "  <style>\n",
              "    .colab-df-container {\n",
              "      display:flex;\n",
              "      gap: 12px;\n",
              "    }\n",
              "\n",
              "    .colab-df-convert {\n",
              "      background-color: #E8F0FE;\n",
              "      border: none;\n",
              "      border-radius: 50%;\n",
              "      cursor: pointer;\n",
              "      display: none;\n",
              "      fill: #1967D2;\n",
              "      height: 32px;\n",
              "      padding: 0 0 0 0;\n",
              "      width: 32px;\n",
              "    }\n",
              "\n",
              "    .colab-df-convert:hover {\n",
              "      background-color: #E2EBFA;\n",
              "      box-shadow: 0px 1px 2px rgba(60, 64, 67, 0.3), 0px 1px 3px 1px rgba(60, 64, 67, 0.15);\n",
              "      fill: #174EA6;\n",
              "    }\n",
              "\n",
              "    .colab-df-buttons div {\n",
              "      margin-bottom: 4px;\n",
              "    }\n",
              "\n",
              "    [theme=dark] .colab-df-convert {\n",
              "      background-color: #3B4455;\n",
              "      fill: #D2E3FC;\n",
              "    }\n",
              "\n",
              "    [theme=dark] .colab-df-convert:hover {\n",
              "      background-color: #434B5C;\n",
              "      box-shadow: 0px 1px 3px 1px rgba(0, 0, 0, 0.15);\n",
              "      filter: drop-shadow(0px 1px 2px rgba(0, 0, 0, 0.3));\n",
              "      fill: #FFFFFF;\n",
              "    }\n",
              "  </style>\n",
              "\n",
              "    <script>\n",
              "      const buttonEl =\n",
              "        document.querySelector('#df-798fb53f-2d28-4a35-9ab1-6bc12614e507 button.colab-df-convert');\n",
              "      buttonEl.style.display =\n",
              "        google.colab.kernel.accessAllowed ? 'block' : 'none';\n",
              "\n",
              "      async function convertToInteractive(key) {\n",
              "        const element = document.querySelector('#df-798fb53f-2d28-4a35-9ab1-6bc12614e507');\n",
              "        const dataTable =\n",
              "          await google.colab.kernel.invokeFunction('convertToInteractive',\n",
              "                                                    [key], {});\n",
              "        if (!dataTable) return;\n",
              "\n",
              "        const docLinkHtml = 'Like what you see? Visit the ' +\n",
              "          '<a target=\"_blank\" href=https://colab.research.google.com/notebooks/data_table.ipynb>data table notebook</a>'\n",
              "          + ' to learn more about interactive tables.';\n",
              "        element.innerHTML = '';\n",
              "        dataTable['output_type'] = 'display_data';\n",
              "        await google.colab.output.renderOutput(dataTable, element);\n",
              "        const docLink = document.createElement('div');\n",
              "        docLink.innerHTML = docLinkHtml;\n",
              "        element.appendChild(docLink);\n",
              "      }\n",
              "    </script>\n",
              "  </div>\n",
              "\n",
              "\n",
              "    </div>\n",
              "  </div>\n"
            ],
            "application/vnd.google.colaboratory.intrinsic+json": {
              "type": "dataframe",
              "variable_name": "df2",
              "summary": "{\n  \"name\": \"df2\",\n  \"rows\": 0,\n  \"fields\": [\n    {\n      \"column\": \"Pattern\",\n      \"properties\": {\n        \"dtype\": \"number\",\n        \"std\": null,\n        \"min\": null,\n        \"max\": null,\n        \"num_unique_values\": 0,\n        \"samples\": [],\n        \"semantic_type\": \"\",\n        \"description\": \"\"\n      }\n    },\n    {\n      \"column\": \"Tag\",\n      \"properties\": {\n        \"dtype\": \"number\",\n        \"std\": null,\n        \"min\": null,\n        \"max\": null,\n        \"num_unique_values\": 0,\n        \"samples\": [],\n        \"semantic_type\": \"\",\n        \"description\": \"\"\n      }\n    }\n  ]\n}"
            }
          },
          "metadata": {},
          "execution_count": 81
        }
      ]
    },
    {
      "cell_type": "markdown",
      "source": [
        "<a id=\"3.3\"></a>\n",
        "### <b>3.3 <span style='color:#B21010'>||</span> Check the shape of the dataset</b>"
      ],
      "metadata": {
        "id": "KjWCaH5-UujZ"
      }
    },
    {
      "cell_type": "code",
      "source": [
        "def print_shape_df(df, ds_name=\"df\"):\n",
        "    print(f\"{ds_name} dataset has {df.shape[0]} rows and {df.shape[1]} columns\")\n",
        "\n",
        "print_shape_df(df, \"Chatbot\")"
      ],
      "metadata": {
        "execution": {
          "iopub.status.busy": "2024-04-26T17:55:22.948326Z",
          "iopub.execute_input": "2024-04-26T17:55:22.948722Z",
          "iopub.status.idle": "2024-04-26T17:55:22.954383Z",
          "shell.execute_reply.started": "2024-04-26T17:55:22.948674Z",
          "shell.execute_reply": "2024-04-26T17:55:22.953442Z"
        },
        "trusted": true,
        "id": "9KkegxiHUujZ",
        "colab": {
          "base_uri": "https://localhost:8080/"
        },
        "outputId": "dc251e90-9ef1-48a3-f529-c5edbefb57c2"
      },
      "execution_count": 82,
      "outputs": [
        {
          "output_type": "stream",
          "name": "stdout",
          "text": [
            "Chatbot dataset has 0 rows and 2 columns\n"
          ]
        }
      ]
    },
    {
      "cell_type": "markdown",
      "source": [
        "<a id=\"3.4\"></a>\n",
        "### <b>3.4 <span style='color:#B21010'>||</span> Display information about the dataset</b>"
      ],
      "metadata": {
        "id": "b7t5flCgUujZ"
      }
    },
    {
      "cell_type": "code",
      "source": [
        "def print_dfInfo(df, ds_name=\"df\"):\n",
        "    print(f\"The info of {ds_name} dataset\\n\")\n",
        "    print(df.info())\n",
        "\n",
        "print_dfInfo(df, \"Chatbot\")"
      ],
      "metadata": {
        "execution": {
          "iopub.status.busy": "2024-04-26T17:55:24.052428Z",
          "iopub.execute_input": "2024-04-26T17:55:24.053301Z",
          "iopub.status.idle": "2024-04-26T17:55:24.075502Z",
          "shell.execute_reply.started": "2024-04-26T17:55:24.053265Z",
          "shell.execute_reply": "2024-04-26T17:55:24.074492Z"
        },
        "trusted": true,
        "id": "cW_I9D_DUujZ",
        "colab": {
          "base_uri": "https://localhost:8080/"
        },
        "outputId": "3a6372db-0c53-4cdb-a8e5-2448996993e0"
      },
      "execution_count": 83,
      "outputs": [
        {
          "output_type": "stream",
          "name": "stdout",
          "text": [
            "The info of Chatbot dataset\n",
            "\n",
            "<class 'pandas.core.frame.DataFrame'>\n",
            "RangeIndex: 0 entries\n",
            "Data columns (total 2 columns):\n",
            " #   Column   Non-Null Count  Dtype  \n",
            "---  ------   --------------  -----  \n",
            " 0   Pattern  0 non-null      float64\n",
            " 1   Tag      0 non-null      float64\n",
            "dtypes: float64(2)\n",
            "memory usage: 124.0 bytes\n",
            "None\n"
          ]
        }
      ]
    },
    {
      "cell_type": "markdown",
      "source": [
        "<a id=\"3.5\"></a>\n",
        "### <b>3.5 <span style='color:#B21010'>||</span> Display Number of Classes</b>"
      ],
      "metadata": {
        "id": "G7bD5sGmUuja"
      }
    },
    {
      "cell_type": "code",
      "source": [
        "def num_classes(df, target_col, ds_name=\"df\"):\n",
        "    print(f\"The {ds_name} dataset has {len(df[target_col].unique())} classes\")\n",
        "\n",
        "num_classes(df, 'Tag', \"Chatbot\")"
      ],
      "metadata": {
        "execution": {
          "iopub.status.busy": "2024-04-26T17:55:25.108244Z",
          "iopub.execute_input": "2024-04-26T17:55:25.108944Z",
          "iopub.status.idle": "2024-04-26T17:55:25.114607Z",
          "shell.execute_reply.started": "2024-04-26T17:55:25.108913Z",
          "shell.execute_reply": "2024-04-26T17:55:25.113661Z"
        },
        "trusted": true,
        "id": "Vg6GXb1wUuja",
        "colab": {
          "base_uri": "https://localhost:8080/"
        },
        "outputId": "fffb633d-a01c-4a07-f9f2-3fc475227a24"
      },
      "execution_count": 84,
      "outputs": [
        {
          "output_type": "stream",
          "name": "stdout",
          "text": [
            "The Chatbot dataset has 0 classes\n"
          ]
        }
      ]
    },
    {
      "cell_type": "markdown",
      "source": [
        "<a id=\"3.6\"></a>\n",
        "### <b>3.6 <span style='color:#B21010'>||</span> Check the null values in the dataset</b>"
      ],
      "metadata": {
        "id": "hGycZPUzUuja"
      }
    },
    {
      "cell_type": "code",
      "source": [
        "def check_null(df, ds_name='df'):\n",
        "    print(f\"Null Values in each col in the {ds_name} dataset:\\n\")\n",
        "    print(df.isnull().sum())\n",
        "\n",
        "check_null(df, \"Chatbot\")"
      ],
      "metadata": {
        "execution": {
          "iopub.status.busy": "2024-04-26T17:55:26.041304Z",
          "iopub.execute_input": "2024-04-26T17:55:26.041693Z",
          "iopub.status.idle": "2024-04-26T17:55:26.049326Z",
          "shell.execute_reply.started": "2024-04-26T17:55:26.041661Z",
          "shell.execute_reply": "2024-04-26T17:55:26.048091Z"
        },
        "trusted": true,
        "id": "T_Q7TYVNUuja",
        "colab": {
          "base_uri": "https://localhost:8080/"
        },
        "outputId": "a1925ea5-ec52-4279-f465-879e1171e2bf"
      },
      "execution_count": 85,
      "outputs": [
        {
          "output_type": "stream",
          "name": "stdout",
          "text": [
            "Null Values in each col in the Chatbot dataset:\n",
            "\n",
            "Pattern    0\n",
            "Tag        0\n",
            "dtype: int64\n"
          ]
        }
      ]
    },
    {
      "cell_type": "markdown",
      "source": [
        "<a id=\"3.7\"></a>\n",
        "### <b>3.7 <span style='color:#B21010'>||</span> Visualize the Null Values</b>"
      ],
      "metadata": {
        "id": "nNOldNPkUuja"
      }
    },
    {
      "cell_type": "code",
      "source": [
        "def load_json_file(filename):\n",
        "    \"\"\"Loads a JSON file and handles potential decoding errors.\n",
        "\n",
        "    Args:\n",
        "        filename (str): Path to the JSON file.\n",
        "\n",
        "    Returns:\n",
        "        dict: Loaded JSON data, or an empty dictionary if decoding fails.\n",
        "    \"\"\"\n",
        "    try:\n",
        "        with open(filename, 'r', encoding='utf-8') as f:  # Add encoding='utf-8'\n",
        "            data = json.load(f)\n",
        "        return data\n",
        "    except json.JSONDecodeError as e:\n",
        "        print(f\"Error decoding JSON file: {e}\")\n",
        "        # You can handle the error by returning an empty dictionary or raising an exception\n",
        "        return {}  # Returning an empty dictionary to avoid halting the execution\n",
        "\n",
        "def create_df():\n",
        "    df = pd.DataFrame({\n",
        "        'Pattern' : [],\n",
        "        'Tag' : []\n",
        "    })\n",
        "    return df\n",
        "\n",
        "df = create_df()\n",
        "\n",
        "# Load data\n",
        "intents = load_json_file(filename)\n",
        "\n",
        "# Check if 'intents' key exists before accessing it\n",
        "if 'intents' in intents:\n",
        "    # Populate DataFrame\n",
        "    for intent in intents['intents']: # Assuming your JSON has 'intents' key\n",
        "        for pattern in intent['patterns']: # Assuming 'patterns' within 'intents'\n",
        "            df.loc[len(df)] = [pattern, intent['tag']] # Assuming 'tag' within 'intents'\n",
        "else:\n",
        "    print(f\"Error: 'intents' key not found in the JSON file: {filename}\")\n",
        "    # You might want to handle this error differently, e.g., raise an exception\n",
        "\n",
        "# ... (your visualization functions)"
      ],
      "metadata": {
        "colab": {
          "base_uri": "https://localhost:8080/"
        },
        "id": "kZF3GcXerbd_",
        "outputId": "910da017-0577-4333-8d88-e9a8b270d34d"
      },
      "execution_count": 86,
      "outputs": [
        {
          "output_type": "stream",
          "name": "stdout",
          "text": [
            "Error decoding JSON file: Expecting value: line 1 column 1 (char 0)\n",
            "Error: 'intents' key not found in the JSON file: /content/drive/MyDrive/DL for NLP/dialogs.txt\n"
          ]
        }
      ]
    },
    {
      "cell_type": "markdown",
      "source": [
        "<a id=\"3.8\"></a>\n",
        "### <b>3.8 <span style='color:#B21010'>||</span> Visualize the distrbution of our Classes</b>"
      ],
      "metadata": {
        "id": "3-0tfPaKUujb"
      }
    },
    {
      "cell_type": "code",
      "source": [
        "def count_plot(x, df, title, xlabel, ylabel, width, height, order = None, rotation=False, palette='winter', hue=None):\n",
        "    ncount = len(df)\n",
        "    plt.figure(figsize=(width,height))\n",
        "    ax = sns.countplot(x = x, palette=palette, order = order, hue=hue)\n",
        "    plt.title(title, fontsize=20)\n",
        "    if rotation:\n",
        "        plt.xticks(rotation = 'vertical')\n",
        "    plt.xlabel(xlabel, fontsize=25)\n",
        "    plt.ylabel(ylabel, fontsize=25)\n",
        "\n",
        "    ax.yaxis.set_label_position('left')\n",
        "    for p in ax.patches:\n",
        "        x=p.get_bbox().get_points()[:,0]\n",
        "        y=p.get_bbox().get_points()[1,1]\n",
        "        ax.annotate('{:.1f}%'.format(100.*y/ncount), (x.mean(), y),\n",
        "                ha='center', va='bottom') # set the alignment of the text\n",
        "\n",
        "    plt.show()"
      ],
      "metadata": {
        "execution": {
          "iopub.status.busy": "2024-04-26T17:55:36.968808Z",
          "iopub.execute_input": "2024-04-26T17:55:36.969201Z",
          "iopub.status.idle": "2024-04-26T17:55:36.978185Z",
          "shell.execute_reply.started": "2024-04-26T17:55:36.969174Z",
          "shell.execute_reply": "2024-04-26T17:55:36.977183Z"
        },
        "trusted": true,
        "id": "5zYZziNkUujb"
      },
      "execution_count": 87,
      "outputs": []
    },
    {
      "cell_type": "code",
      "source": [
        "sns.set(font_scale = 1.2)\n",
        "order = df['Tag'].value_counts().index\n",
        "count_plot(df['Tag'], df, \"Chatbot Tags distrbution\", \"Tags\", \"Frequency\", 20,10, order=order,rotation=True, palette=\"summer\")"
      ],
      "metadata": {
        "execution": {
          "iopub.status.busy": "2024-04-26T17:55:38.480777Z",
          "iopub.execute_input": "2024-04-26T17:55:38.481668Z",
          "iopub.status.idle": "2024-04-26T17:55:39.458211Z",
          "shell.execute_reply.started": "2024-04-26T17:55:38.481638Z",
          "shell.execute_reply": "2024-04-26T17:55:39.457099Z"
        },
        "trusted": true,
        "id": "bHvwqiRaUujb",
        "colab": {
          "base_uri": "https://localhost:8080/",
          "height": 396
        },
        "outputId": "e2a4bc5e-4c70-46a0-b02b-053d417c9300"
      },
      "execution_count": 88,
      "outputs": [
        {
          "output_type": "display_data",
          "data": {
            "text/plain": [
              "<Figure size 2000x1000 with 1 Axes>"
            ],
            "image/png": "[encoded data removed]"
          },
          "metadata": {}
        }
      ]
    },
    {
      "cell_type": "code",
      "source": [
        "!pip install nltk\n",
        "import nltk\n",
        "\n",
        "nltk.download('punkt')\n",
        "\n",
        "stemmer = PorterStemmer()\n",
        "ignore_words=['?', '!', ',', '.']\n",
        "\n",
        "def preprocess_pattern(pattern):\n",
        "    words = word_tokenize(pattern.lower())\n",
        "    stemmed_words = [stemmer.stem(word) for word in words if word not in ignore_words]\n",
        "    return \" \".join(stemmed_words)\n",
        "\n",
        "df['Pattern'] = df['Pattern'].apply(preprocess_pattern)"
      ],
      "metadata": {
        "id": "MZO2IAmiWtrQ",
        "colab": {
          "base_uri": "https://localhost:8080/"
        },
        "outputId": "c4fbf3e5-cf2f-4bb0-c070-ac7ed3882229"
      },
      "execution_count": 89,
      "outputs": [
        {
          "output_type": "stream",
          "name": "stdout",
          "text": [
            "Requirement already satisfied: nltk in /usr/local/lib/python3.10/dist-packages (3.9.1)\n",
            "Requirement already satisfied: click in /usr/local/lib/python3.10/dist-packages (from nltk) (8.1.7)\n",
            "Requirement already satisfied: joblib in /usr/local/lib/python3.10/dist-packages (from nltk) (1.4.2)\n",
            "Requirement already satisfied: regex>=2021.8.3 in /usr/local/lib/python3.10/dist-packages (from nltk) (2024.11.6)\n",
            "Requirement already satisfied: tqdm in /usr/local/lib/python3.10/dist-packages (from nltk) (4.67.1)\n"
          ]
        },
        {
          "output_type": "stream",
          "name": "stderr",
          "text": [
            "[nltk_data] Downloading package punkt to /root/nltk_data...\n",
            "[nltk_data]   Package punkt is already up-to-date!\n"
          ]
        }
      ]
    },
    {
      "cell_type": "code",
      "source": [
        "df.head()"
      ],
      "metadata": {
        "execution": {
          "iopub.status.busy": "2024-04-26T17:55:44.004829Z",
          "iopub.execute_input": "2024-04-26T17:55:44.005589Z",
          "iopub.status.idle": "2024-04-26T17:55:44.016146Z",
          "shell.execute_reply.started": "2024-04-26T17:55:44.005553Z",
          "shell.execute_reply": "2024-04-26T17:55:44.015056Z"
        },
        "trusted": true,
        "id": "Tv9MW0C7Uujb",
        "colab": {
          "base_uri": "https://localhost:8080/",
          "height": 53
        },
        "outputId": "d7e193b3-1119-4821-be7a-b368a2e2e9a3"
      },
      "execution_count": 90,
      "outputs": [
        {
          "output_type": "execute_result",
          "data": {
            "text/plain": [
              "Empty DataFrame\n",
              "Columns: [Pattern, Tag]\n",
              "Index: []"
            ],
            "text/html": [
              "\n",
              "  <div id=\"df-da9bbf94-4ce9-45c1-b28f-42779a3a7090\" class=\"colab-df-container\">\n",
              "    <div>\n",
              "<style scoped>\n",
              "    .dataframe tbody tr th:only-of-type {\n",
              "        vertical-align: middle;\n",
              "    }\n",
              "\n",
              "    .dataframe tbody tr th {\n",
              "        vertical-align: top;\n",
              "    }\n",
              "\n",
              "    .dataframe thead th {\n",
              "        text-align: right;\n",
              "    }\n",
              "</style>\n",
              "<table border=\"1\" class=\"dataframe\">\n",
              "  <thead>\n",
              "    <tr style=\"text-align: right;\">\n",
              "      <th></th>\n",
              "      <th>Pattern</th>\n",
              "      <th>Tag</th>\n",
              "    </tr>\n",
              "  </thead>\n",
              "  <tbody>\n",
              "  </tbody>\n",
              "</table>\n",
              "</div>\n",
              "    <div class=\"colab-df-buttons\">\n",
              "\n",
              "  <div class=\"colab-df-container\">\n",
              "    <button class=\"colab-df-convert\" onclick=\"convertToInteractive('df-da9bbf94-4ce9-45c1-b28f-42779a3a7090')\"\n",
              "            title=\"Convert this dataframe to an interactive table.\"\n",
              "            style=\"display:none;\">\n",
              "\n",
              "  <svg xmlns=\"http://www.w3.org/2000/svg\" height=\"24px\" viewBox=\"0 -960 960 960\">\n",
              "    <path d=\"M120-120v-720h720v720H120Zm60-500h600v-160H180v160Zm220 220h160v-160H400v160Zm0 220h160v-160H400v160ZM180-400h160v-160H180v160Zm440 0h160v-160H620v160ZM180-180h160v-160H180v160Zm440 0h160v-160H620v160Z\"/>\n",
              "  </svg>\n",
              "    </button>\n",
              "\n",
              "  <style>\n",
              "    .colab-df-container {\n",
              "      display:flex;\n",
              "      gap: 12px;\n",
              "    }\n",
              "\n",
              "    .colab-df-convert {\n",
              "      background-color: #E8F0FE;\n",
              "      border: none;\n",
              "      border-radius: 50%;\n",
              "      cursor: pointer;\n",
              "      display: none;\n",
              "      fill: #1967D2;\n",
              "      height: 32px;\n",
              "      padding: 0 0 0 0;\n",
              "      width: 32px;\n",
              "    }\n",
              "\n",
              "    .colab-df-convert:hover {\n",
              "      background-color: #E2EBFA;\n",
              "      box-shadow: 0px 1px 2px rgba(60, 64, 67, 0.3), 0px 1px 3px 1px rgba(60, 64, 67, 0.15);\n",
              "      fill: #174EA6;\n",
              "    }\n",
              "\n",
              "    .colab-df-buttons div {\n",
              "      margin-bottom: 4px;\n",
              "    }\n",
              "\n",
              "    [theme=dark] .colab-df-convert {\n",
              "      background-color: #3B4455;\n",
              "      fill: #D2E3FC;\n",
              "    }\n",
              "\n",
              "    [theme=dark] .colab-df-convert:hover {\n",
              "      background-color: #434B5C;\n",
              "      box-shadow: 0px 1px 3px 1px rgba(0, 0, 0, 0.15);\n",
              "      filter: drop-shadow(0px 1px 2px rgba(0, 0, 0, 0.3));\n",
              "      fill: #FFFFFF;\n",
              "    }\n",
              "  </style>\n",
              "\n",
              "    <script>\n",
              "      const buttonEl =\n",
              "        document.querySelector('#df-da9bbf94-4ce9-45c1-b28f-42779a3a7090 button.colab-df-convert');\n",
              "      buttonEl.style.display =\n",
              "        google.colab.kernel.accessAllowed ? 'block' : 'none';\n",
              "\n",
              "      async function convertToInteractive(key) {\n",
              "        const element = document.querySelector('#df-da9bbf94-4ce9-45c1-b28f-42779a3a7090');\n",
              "        const dataTable =\n",
              "          await google.colab.kernel.invokeFunction('convertToInteractive',\n",
              "                                                    [key], {});\n",
              "        if (!dataTable) return;\n",
              "\n",
              "        const docLinkHtml = 'Like what you see? Visit the ' +\n",
              "          '<a target=\"_blank\" href=https://colab.research.google.com/notebooks/data_table.ipynb>data table notebook</a>'\n",
              "          + ' to learn more about interactive tables.';\n",
              "        element.innerHTML = '';\n",
              "        dataTable['output_type'] = 'display_data';\n",
              "        await google.colab.output.renderOutput(dataTable, element);\n",
              "        const docLink = document.createElement('div');\n",
              "        docLink.innerHTML = docLinkHtml;\n",
              "        element.appendChild(docLink);\n",
              "      }\n",
              "    </script>\n",
              "  </div>\n",
              "\n",
              "\n",
              "    </div>\n",
              "  </div>\n"
            ],
            "application/vnd.google.colaboratory.intrinsic+json": {
              "type": "dataframe",
              "variable_name": "df",
              "summary": "{\n  \"name\": \"df\",\n  \"rows\": 0,\n  \"fields\": [\n    {\n      \"column\": \"Pattern\",\n      \"properties\": {\n        \"dtype\": \"number\",\n        \"std\": null,\n        \"min\": null,\n        \"max\": null,\n        \"num_unique_values\": 0,\n        \"samples\": [],\n        \"semantic_type\": \"\",\n        \"description\": \"\"\n      }\n    },\n    {\n      \"column\": \"Tag\",\n      \"properties\": {\n        \"dtype\": \"number\",\n        \"std\": null,\n        \"min\": null,\n        \"max\": null,\n        \"num_unique_values\": 0,\n        \"samples\": [],\n        \"semantic_type\": \"\",\n        \"description\": \"\"\n      }\n    }\n  ]\n}"
            }
          },
          "metadata": {},
          "execution_count": 90
        }
      ]
    },
    {
      "cell_type": "code",
      "source": [
        "print(df['Pattern'].isnull().sum())"
      ],
      "metadata": {
        "execution": {
          "iopub.status.busy": "2024-04-26T17:55:44.198779Z",
          "iopub.execute_input": "2024-04-26T17:55:44.199136Z",
          "iopub.status.idle": "2024-04-26T17:55:44.20502Z",
          "shell.execute_reply.started": "2024-04-26T17:55:44.199109Z",
          "shell.execute_reply": "2024-04-26T17:55:44.203916Z"
        },
        "trusted": true,
        "id": "1cz8GRfmUujc",
        "colab": {
          "base_uri": "https://localhost:8080/"
        },
        "outputId": "e4c67a40-5765-43b1-8cd8-07d92c84e341"
      },
      "execution_count": 91,
      "outputs": [
        {
          "output_type": "stream",
          "name": "stdout",
          "text": [
            "0\n"
          ]
        }
      ]
    },
    {
      "cell_type": "markdown",
      "source": [
        "<a id=\"3.9\"></a>\n",
        "### <b>3.9 <span style='color:#B21010'>||</span> Display Word Cloud</b>"
      ],
      "metadata": {
        "id": "SGWGQsP0Uujc"
      }
    },
    {
      "cell_type": "code",
      "source": [
        "import json\n",
        "import numpy as np\n",
        "import pandas as pd\n",
        "import random\n",
        "from matplotlib import pyplot as plt\n",
        "import seaborn as sns\n",
        "from wordcloud import WordCloud, STOPWORDS\n",
        "import missingno as msno\n",
        "\n",
        "from sklearn.feature_extraction.text import CountVectorizer\n",
        "from sklearn.model_selection import train_test_split\n",
        "from sklearn.metrics import accuracy_score, precision_recall_fscore_support\n",
        "\n",
        "# from keras.preprocessing import text\n",
        "import keras\n",
        "from keras.models import Sequential\n",
        "from keras.layers import Dense, Embedding, LSTM, Dropout\n",
        "from keras.callbacks import ReduceLROnPlateau\n",
        "\n",
        "from tensorflow.keras.preprocessing.sequence import pad_sequences\n",
        "import nltk\n",
        "from nltk import word_tokenize\n",
        "from nltk.stem import PorterStemmer\n",
        "\n",
        "import torch\n",
        "from torch.utils.data import Dataset\n",
        "\n",
        "from transformers import AutoTokenizer, TFAutoModelForSequenceClassification\n",
        "from transformers import pipeline\n",
        "from transformers import DistilBertTokenizerFast\n",
        "from transformers import BertForSequenceClassification, BertTokenizerFast\n",
        "# from transformers import TFDistilBertForSequenceClassification, TFTrainer, TFTrainingArguments\n",
        "from transformers import BertTokenizer, TFBertForSequenceClassification, BertConfig\n",
        "from transformers import TrainingArguments, Trainer\n",
        "\n",
        "\n",
        "def load_json_file(filename):\n",
        "    \"\"\"Loads a JSON file and handles potential decoding errors.\n",
        "\n",
        "    Args:\n",
        "        filename (str): Path to the JSON file.\n",
        "\n",
        "    Returns:\n",
        "        dict: Loaded JSON data, or an empty dictionary if decoding fails.\n",
        "    \"\"\""
      ],
      "metadata": {
        "id": "L_NXmFunsO6q"
      },
      "execution_count": 92,
      "outputs": []
    },
    {
      "cell_type": "markdown",
      "source": [
        "<a id=\"3.10\"></a>\n",
        "### <b>3.10 <span style='color:#B21010'>||</span> Distrbution of Number of letters in each text</b>"
      ],
      "metadata": {
        "id": "bTf2yT08Uujc"
      }
    },
    {
      "cell_type": "code",
      "source": [
        "# Assuming 'df' is your DataFrame\n",
        "df['Pattern'] = df['Pattern'].astype(str)  # Convert the column to string type\n",
        "\n",
        "letters_len = df['Pattern'].str.len()\n",
        "plt.hist(letters_len, color='red')\n",
        "plt.title(\"Distrbution of Number of letters in each text\")\n",
        "plt.xlabel(\"Num of letters\")\n",
        "plt.ylabel(\"Frequency\")\n",
        "plt.show()"
      ],
      "metadata": {
        "colab": {
          "base_uri": "https://localhost:8080/",
          "height": 485
        },
        "id": "i1FLEb0JtVyw",
        "outputId": "948f12cb-2f9e-4bd1-81c3-79967a5e237c"
      },
      "execution_count": 93,
      "outputs": [
        {
          "output_type": "display_data",
          "data": {
            "text/plain": [
              "<Figure size 640x480 with 1 Axes>"
            ],
            "image/png": "[encoded data removed]"
          },
          "metadata": {}
        }
      ]
    },
    {
      "cell_type": "markdown",
      "source": [
        "<a id=\"3.11\"></a>\n",
        "### <b>3.11 <span style='color:#B21010'>||</span> Distrbution of Number of words in each text</b>"
      ],
      "metadata": {
        "id": "1yeEoX4jUujd"
      }
    },
    {
      "cell_type": "code",
      "source": [
        "import json\n",
        "import numpy as np\n",
        "import pandas as pd\n",
        "import random\n",
        "from matplotlib import pyplot as plt\n",
        "import seaborn as sns\n",
        "from wordcloud import WordCloud, STOPWORDS\n",
        "import missingno as msno\n",
        "\n",
        "from sklearn.feature_extraction.text import CountVectorizer\n",
        "from sklearn.model_selection import train_test_split\n",
        "from sklearn.metrics import accuracy_score, precision_recall_fscore_support\n",
        "\n",
        "# from keras.preprocessing import text\n",
        "import keras\n",
        "from keras.models import Sequential\n",
        "from keras.layers import Dense, Embedding, LSTM, Dropout\n",
        "from keras.callbacks import ReduceLROnPlateau\n",
        "\n",
        "from tensorflow.keras.preprocessing.sequence import pad_sequences\n",
        "import nltk\n",
        "from nltk import word_tokenize\n",
        "from nltk.stem import PorterStemmer\n",
        "\n",
        "import torch\n",
        "from torch.utils.data import Dataset\n",
        "\n",
        "from transformers import AutoTokenizer, TFAutoModelForSequenceClassification\n",
        "from transformers import pipeline\n",
        "from transformers import DistilBertTokenizerFast\n",
        "from transformers import BertForSequenceClassification, BertTokenizerFast\n",
        "# from transformers import TFDistilBertForSequenceClassification, TFTrainer, TFTrainingArguments\n",
        "from transformers import BertTokenizer, TFBertForSequenceClassification, BertConfig\n",
        "from transformers import TrainingArguments, Trainer\n",
        "\n",
        "\n",
        "def load_json_file(filename):\n",
        "    \"\"\"Loads a JSON file and handles potential decoding errors.\n",
        "\n",
        "    Args:\n",
        "        filename (str): Path to the JSON file.\n",
        "\n",
        "    Returns:\n",
        "        dict: Loaded JSON data, or an empty dictionary if decoding fails.\n",
        "    \"\"\"\n",
        "\n",
        "\n",
        "# Assuming 'df' is your DataFrame\n",
        "df['Pattern'] = df['Pattern'].astype(str)  # Convert the column to string type\n",
        "\n",
        "letters_len = df['Pattern'].str.len()\n",
        "plt.hist(letters_len, color='red')\n",
        "plt.title(\"Distrbution of Number of letters in each text\")\n",
        "plt.xlabel(\"Num of letters\")\n",
        "plt.ylabel(\"Frequency\")\n",
        "plt.show()"
      ],
      "metadata": {
        "colab": {
          "base_uri": "https://localhost:8080/",
          "height": 485
        },
        "id": "ZvxUdTufslzF",
        "outputId": "d73a2cd4-ad12-45e5-8c95-fd41a2f33404"
      },
      "execution_count": 94,
      "outputs": [
        {
          "output_type": "display_data",
          "data": {
            "text/plain": [
              "<Figure size 640x480 with 1 Axes>"
            ],
            "image/png": "[encoded data removed]"
          },
          "metadata": {}
        }
      ]
    },
    {
      "cell_type": "markdown",
      "source": [
        "<a id=\"3.12\"></a>\n",
        "### <b>3.12 <span style='color:#B21010'>||</span> Visualize Average word length in each text</b>"
      ],
      "metadata": {
        "id": "BoxmkfROUujd"
      }
    },
    {
      "cell_type": "code",
      "source": [
        "word=df['Pattern'].str.split().apply(lambda x : [len(i) for i in x])\n",
        "word = word.map(lambda x: np.mean(x))\n",
        "sns.distplot(word,color='red')\n",
        "plt.title(\"Average word length in each text\")\n",
        "plt.xlabel(\"Num of words\")\n",
        "plt.ylabel(\"Precentage\")\n",
        "plt.show()"
      ],
      "metadata": {
        "execution": {
          "iopub.status.busy": "2024-04-26T17:56:00.310589Z",
          "iopub.execute_input": "2024-04-26T17:56:00.3116Z",
          "iopub.status.idle": "2024-04-26T17:56:00.796697Z",
          "shell.execute_reply.started": "2024-04-26T17:56:00.311562Z",
          "shell.execute_reply": "2024-04-26T17:56:00.795725Z"
        },
        "trusted": true,
        "id": "BqayzTxhUujd",
        "colab": {
          "base_uri": "https://localhost:8080/",
          "height": 731
        },
        "outputId": "d03f8701-1480-44b1-889b-12e1e5a40f30"
      },
      "execution_count": 95,
      "outputs": [
        {
          "output_type": "stream",
          "name": "stderr",
          "text": [
            "<ipython-input-95-c5010b3a990f>:3: UserWarning: \n",
            "\n",
            "`distplot` is a deprecated function and will be removed in seaborn v0.14.0.\n",
            "\n",
            "Please adapt your code to use either `displot` (a figure-level function with\n",
            "similar flexibility) or `histplot` (an axes-level function for histograms).\n",
            "\n",
            "For a guide to updating your code to use the new functions, please see\n",
            "https://gist.github.com/mwaskom/de44147ed2974457ad6372750bbe5751\n",
            "\n",
            "  sns.distplot(word,color='red')\n",
            "/usr/local/lib/python3.10/dist-packages/numpy/lib/histograms.py:885: RuntimeWarning: invalid value encountered in divide\n",
            "  return n/db/n.sum(), bin_edges\n"
          ]
        },
        {
          "output_type": "display_data",
          "data": {
            "text/plain": [
              "<Figure size 640x480 with 1 Axes>"
            ],
            "image/png": "[encoded data removed]"
          },
          "metadata": {}
        }
      ]
    },
    {
      "cell_type": "markdown",
      "source": [
        "<a id=\"3.13\"></a>\n",
        "### <b>3.13 <span style='color:#B21010'>||</span> Visualize top words</b>"
      ],
      "metadata": {
        "id": "BklqYlk2Uujd"
      }
    },
    {
      "cell_type": "code",
      "source": [
        "def get_corpus(series):\n",
        "    words = []\n",
        "    for text in series:\n",
        "        for word in text.split():\n",
        "            words.append(word.strip())\n",
        "    return words\n",
        "\n",
        "corpus = get_corpus(df.Pattern)\n",
        "corpus[:5]"
      ],
      "metadata": {
        "execution": {
          "iopub.status.busy": "2024-04-26T17:56:04.688281Z",
          "iopub.execute_input": "2024-04-26T17:56:04.689084Z",
          "iopub.status.idle": "2024-04-26T17:56:04.698565Z",
          "shell.execute_reply.started": "2024-04-26T17:56:04.689049Z",
          "shell.execute_reply": "2024-04-26T17:56:04.696768Z"
        },
        "trusted": true,
        "id": "m8nUYsqBUujd",
        "colab": {
          "base_uri": "https://localhost:8080/"
        },
        "outputId": "9e476ccb-686e-43a4-fa53-1d6e955b8109"
      },
      "execution_count": 96,
      "outputs": [
        {
          "output_type": "execute_result",
          "data": {
            "text/plain": [
              "[]"
            ]
          },
          "metadata": {},
          "execution_count": 96
        }
      ]
    },
    {
      "cell_type": "code",
      "source": [
        "print(f\"dataset contains {len(corpus)} words\")"
      ],
      "metadata": {
        "execution": {
          "iopub.status.busy": "2024-04-26T17:56:05.703393Z",
          "iopub.execute_input": "2024-04-26T17:56:05.70406Z",
          "iopub.status.idle": "2024-04-26T17:56:05.709911Z",
          "shell.execute_reply.started": "2024-04-26T17:56:05.704022Z",
          "shell.execute_reply": "2024-04-26T17:56:05.708678Z"
        },
        "trusted": true,
        "id": "SWP_UF7mUuje",
        "colab": {
          "base_uri": "https://localhost:8080/"
        },
        "outputId": "1fbc8294-8ef1-4b51-a630-7c81e5717374"
      },
      "execution_count": 97,
      "outputs": [
        {
          "output_type": "stream",
          "name": "stdout",
          "text": [
            "dataset contains 0 words\n"
          ]
        }
      ]
    },
    {
      "cell_type": "code",
      "source": [
        "from collections import Counter\n",
        "counter = Counter(corpus)\n",
        "most_common = counter.most_common(10)\n",
        "most_common = dict(most_common)\n",
        "most_common"
      ],
      "metadata": {
        "execution": {
          "iopub.status.busy": "2024-04-26T17:56:07.421504Z",
          "iopub.execute_input": "2024-04-26T17:56:07.42195Z",
          "iopub.status.idle": "2024-04-26T17:56:07.430702Z",
          "shell.execute_reply.started": "2024-04-26T17:56:07.421913Z",
          "shell.execute_reply": "2024-04-26T17:56:07.429563Z"
        },
        "trusted": true,
        "id": "ET3IIMncUuje",
        "colab": {
          "base_uri": "https://localhost:8080/"
        },
        "outputId": "651c7f8a-4c48-45b0-d167-5c2053e832d5"
      },
      "execution_count": 98,
      "outputs": [
        {
          "output_type": "execute_result",
          "data": {
            "text/plain": [
              "{}"
            ]
          },
          "metadata": {},
          "execution_count": 98
        }
      ]
    },
    {
      "cell_type": "code",
      "source": [
        "def get_top_text_ngrams(corpus, n,g):\n",
        "    vec = CountVectorizer(ngram_range=(1, 1)).fit(corpus)\n",
        "    bag_of_words = vec.transform(corpus)\n",
        "    sum_words = bag_of_words.sum(axis=0)\n",
        "    words_freq = [(word, sum_words[0, idx]) for word, idx in vec.vocabulary_.items()]\n",
        "    words_freq =sorted(words_freq, key = lambda x: x[1], reverse=True)\n",
        "    return words_freq[:n]"
      ],
      "metadata": {
        "execution": {
          "iopub.status.busy": "2024-04-26T17:56:08.937104Z",
          "iopub.execute_input": "2024-04-26T17:56:08.937473Z",
          "iopub.status.idle": "2024-04-26T17:56:08.944498Z",
          "shell.execute_reply.started": "2024-04-26T17:56:08.937444Z",
          "shell.execute_reply": "2024-04-26T17:56:08.943298Z"
        },
        "trusted": true,
        "id": "CA5dyzznUuje"
      },
      "execution_count": 99,
      "outputs": []
    },
    {
      "cell_type": "code",
      "source": [
        "def create_df():\n",
        "    \"\"\"Creates an empty DataFrame with 'Pattern' and 'Tag' columns.\n",
        "\n",
        "    Returns:\n",
        "        pd.DataFrame: An empty DataFrame.\n",
        "    \"\"\"\n",
        "    df = pd.DataFrame({  # This line should be indented\n",
        "        'Pattern': [],  # This line should be indented\n",
        "        'Tag': []  # This line should be indented\n",
        "    })\n",
        "    return df  # This line should be indented"
      ],
      "metadata": {
        "id": "uaUmtt2t2UWX"
      },
      "execution_count": 100,
      "outputs": []
    },
    {
      "cell_type": "markdown",
      "source": [
        "<a id=\"4\"></a>\n",
        "## <b>4 <span style='color:#B21010'>||</span> Data Preprocessing</b>"
      ],
      "metadata": {
        "id": "G3yXLYxDUujm"
      }
    },
    {
      "cell_type": "code",
      "source": [
        "df2.head()"
      ],
      "metadata": {
        "execution": {
          "iopub.status.busy": "2024-04-26T17:56:12.861742Z",
          "iopub.execute_input": "2024-04-26T17:56:12.862645Z",
          "iopub.status.idle": "2024-04-26T17:56:12.872529Z",
          "shell.execute_reply.started": "2024-04-26T17:56:12.862612Z",
          "shell.execute_reply": "2024-04-26T17:56:12.871608Z"
        },
        "trusted": true,
        "id": "tU8Y3wh1Uujm",
        "colab": {
          "base_uri": "https://localhost:8080/",
          "height": 53
        },
        "outputId": "7a8ed3d5-22a1-4d66-d253-87509bd81137"
      },
      "execution_count": 101,
      "outputs": [
        {
          "output_type": "execute_result",
          "data": {
            "text/plain": [
              "Empty DataFrame\n",
              "Columns: [Pattern, Tag]\n",
              "Index: []"
            ],
            "text/html": [
              "\n",
              "  <div id=\"df-52a11236-2e87-4435-bd51-4e92942d8f5a\" class=\"colab-df-container\">\n",
              "    <div>\n",
              "<style scoped>\n",
              "    .dataframe tbody tr th:only-of-type {\n",
              "        vertical-align: middle;\n",
              "    }\n",
              "\n",
              "    .dataframe tbody tr th {\n",
              "        vertical-align: top;\n",
              "    }\n",
              "\n",
              "    .dataframe thead th {\n",
              "        text-align: right;\n",
              "    }\n",
              "</style>\n",
              "<table border=\"1\" class=\"dataframe\">\n",
              "  <thead>\n",
              "    <tr style=\"text-align: right;\">\n",
              "      <th></th>\n",
              "      <th>Pattern</th>\n",
              "      <th>Tag</th>\n",
              "    </tr>\n",
              "  </thead>\n",
              "  <tbody>\n",
              "  </tbody>\n",
              "</table>\n",
              "</div>\n",
              "    <div class=\"colab-df-buttons\">\n",
              "\n",
              "  <div class=\"colab-df-container\">\n",
              "    <button class=\"colab-df-convert\" onclick=\"convertToInteractive('df-52a11236-2e87-4435-bd51-4e92942d8f5a')\"\n",
              "            title=\"Convert this dataframe to an interactive table.\"\n",
              "            style=\"display:none;\">\n",
              "\n",
              "  <svg xmlns=\"http://www.w3.org/2000/svg\" height=\"24px\" viewBox=\"0 -960 960 960\">\n",
              "    <path d=\"M120-120v-720h720v720H120Zm60-500h600v-160H180v160Zm220 220h160v-160H400v160Zm0 220h160v-160H400v160ZM180-400h160v-160H180v160Zm440 0h160v-160H620v160ZM180-180h160v-160H180v160Zm440 0h160v-160H620v160Z\"/>\n",
              "  </svg>\n",
              "    </button>\n",
              "\n",
              "  <style>\n",
              "    .colab-df-container {\n",
              "      display:flex;\n",
              "      gap: 12px;\n",
              "    }\n",
              "\n",
              "    .colab-df-convert {\n",
              "      background-color: #E8F0FE;\n",
              "      border: none;\n",
              "      border-radius: 50%;\n",
              "      cursor: pointer;\n",
              "      display: none;\n",
              "      fill: #1967D2;\n",
              "      height: 32px;\n",
              "      padding: 0 0 0 0;\n",
              "      width: 32px;\n",
              "    }\n",
              "\n",
              "    .colab-df-convert:hover {\n",
              "      background-color: #E2EBFA;\n",
              "      box-shadow: 0px 1px 2px rgba(60, 64, 67, 0.3), 0px 1px 3px 1px rgba(60, 64, 67, 0.15);\n",
              "      fill: #174EA6;\n",
              "    }\n",
              "\n",
              "    .colab-df-buttons div {\n",
              "      margin-bottom: 4px;\n",
              "    }\n",
              "\n",
              "    [theme=dark] .colab-df-convert {\n",
              "      background-color: #3B4455;\n",
              "      fill: #D2E3FC;\n",
              "    }\n",
              "\n",
              "    [theme=dark] .colab-df-convert:hover {\n",
              "      background-color: #434B5C;\n",
              "      box-shadow: 0px 1px 3px 1px rgba(0, 0, 0, 0.15);\n",
              "      filter: drop-shadow(0px 1px 2px rgba(0, 0, 0, 0.3));\n",
              "      fill: #FFFFFF;\n",
              "    }\n",
              "  </style>\n",
              "\n",
              "    <script>\n",
              "      const buttonEl =\n",
              "        document.querySelector('#df-52a11236-2e87-4435-bd51-4e92942d8f5a button.colab-df-convert');\n",
              "      buttonEl.style.display =\n",
              "        google.colab.kernel.accessAllowed ? 'block' : 'none';\n",
              "\n",
              "      async function convertToInteractive(key) {\n",
              "        const element = document.querySelector('#df-52a11236-2e87-4435-bd51-4e92942d8f5a');\n",
              "        const dataTable =\n",
              "          await google.colab.kernel.invokeFunction('convertToInteractive',\n",
              "                                                    [key], {});\n",
              "        if (!dataTable) return;\n",
              "\n",
              "        const docLinkHtml = 'Like what you see? Visit the ' +\n",
              "          '<a target=\"_blank\" href=https://colab.research.google.com/notebooks/data_table.ipynb>data table notebook</a>'\n",
              "          + ' to learn more about interactive tables.';\n",
              "        element.innerHTML = '';\n",
              "        dataTable['output_type'] = 'display_data';\n",
              "        await google.colab.output.renderOutput(dataTable, element);\n",
              "        const docLink = document.createElement('div');\n",
              "        docLink.innerHTML = docLinkHtml;\n",
              "        element.appendChild(docLink);\n",
              "      }\n",
              "    </script>\n",
              "  </div>\n",
              "\n",
              "\n",
              "    </div>\n",
              "  </div>\n"
            ],
            "application/vnd.google.colaboratory.intrinsic+json": {
              "type": "dataframe",
              "variable_name": "df2",
              "summary": "{\n  \"name\": \"df2\",\n  \"rows\": 0,\n  \"fields\": [\n    {\n      \"column\": \"Pattern\",\n      \"properties\": {\n        \"dtype\": \"number\",\n        \"std\": null,\n        \"min\": null,\n        \"max\": null,\n        \"num_unique_values\": 0,\n        \"samples\": [],\n        \"semantic_type\": \"\",\n        \"description\": \"\"\n      }\n    },\n    {\n      \"column\": \"Tag\",\n      \"properties\": {\n        \"dtype\": \"number\",\n        \"std\": null,\n        \"min\": null,\n        \"max\": null,\n        \"num_unique_values\": 0,\n        \"samples\": [],\n        \"semantic_type\": \"\",\n        \"description\": \"\"\n      }\n    }\n  ]\n}"
            }
          },
          "metadata": {},
          "execution_count": 101
        }
      ]
    },
    {
      "cell_type": "code",
      "source": [
        "labels = df2['Tag'].unique().tolist()\n",
        "labels = [s.strip() for s in labels]\n",
        "labels"
      ],
      "metadata": {
        "execution": {
          "iopub.status.busy": "2024-04-26T17:56:14.298323Z",
          "iopub.execute_input": "2024-04-26T17:56:14.29866Z",
          "iopub.status.idle": "2024-04-26T17:56:14.306487Z",
          "shell.execute_reply.started": "2024-04-26T17:56:14.298635Z",
          "shell.execute_reply": "2024-04-26T17:56:14.305544Z"
        },
        "trusted": true,
        "id": "h_8sNG1gUujm",
        "colab": {
          "base_uri": "https://localhost:8080/"
        },
        "outputId": "d0136d40-2ac6-42c8-a9e9-62ba136a1c30"
      },
      "execution_count": 102,
      "outputs": [
        {
          "output_type": "execute_result",
          "data": {
            "text/plain": [
              "[]"
            ]
          },
          "metadata": {},
          "execution_count": 102
        }
      ]
    },
    {
      "cell_type": "code",
      "source": [
        "num_labels = len(labels)\n",
        "id2label = {id:label for id, label in enumerate(labels)}\n",
        "label2id = {label:id for id, label in enumerate(labels)}"
      ],
      "metadata": {
        "execution": {
          "iopub.status.busy": "2024-04-26T17:56:15.690881Z",
          "iopub.execute_input": "2024-04-26T17:56:15.691806Z",
          "iopub.status.idle": "2024-04-26T17:56:15.69714Z",
          "shell.execute_reply.started": "2024-04-26T17:56:15.691768Z",
          "shell.execute_reply": "2024-04-26T17:56:15.695719Z"
        },
        "trusted": true,
        "id": "58ZWWHVhUujn"
      },
      "execution_count": 103,
      "outputs": []
    },
    {
      "cell_type": "code",
      "source": [
        "id2label"
      ],
      "metadata": {
        "execution": {
          "iopub.status.busy": "2024-04-26T17:56:16.997058Z",
          "iopub.execute_input": "2024-04-26T17:56:16.997466Z",
          "iopub.status.idle": "2024-04-26T17:56:17.005279Z",
          "shell.execute_reply.started": "2024-04-26T17:56:16.997433Z",
          "shell.execute_reply": "2024-04-26T17:56:17.004234Z"
        },
        "trusted": true,
        "id": "69Eiu6jIUujn",
        "colab": {
          "base_uri": "https://localhost:8080/"
        },
        "outputId": "bb255e05-ff16-44e7-81b7-8280adf5872a"
      },
      "execution_count": 104,
      "outputs": [
        {
          "output_type": "execute_result",
          "data": {
            "text/plain": [
              "{}"
            ]
          },
          "metadata": {},
          "execution_count": 104
        }
      ]
    },
    {
      "cell_type": "code",
      "source": [
        "label2id"
      ],
      "metadata": {
        "execution": {
          "iopub.status.busy": "2024-04-26T17:56:18.921706Z",
          "iopub.execute_input": "2024-04-26T17:56:18.922128Z",
          "iopub.status.idle": "2024-04-26T17:56:18.930261Z",
          "shell.execute_reply.started": "2024-04-26T17:56:18.922093Z",
          "shell.execute_reply": "2024-04-26T17:56:18.929202Z"
        },
        "trusted": true,
        "id": "IrXIOeUKUujn",
        "colab": {
          "base_uri": "https://localhost:8080/"
        },
        "outputId": "b1374e41-5d05-43c3-9169-53d8f8f59919"
      },
      "execution_count": 105,
      "outputs": [
        {
          "output_type": "execute_result",
          "data": {
            "text/plain": [
              "{}"
            ]
          },
          "metadata": {},
          "execution_count": 105
        }
      ]
    },
    {
      "cell_type": "code",
      "source": [
        "df2['labels'] = df2['Tag'].map(lambda x: label2id[x.strip()])\n",
        "df2.head()"
      ],
      "metadata": {
        "execution": {
          "iopub.status.busy": "2024-04-26T17:56:19.132798Z",
          "iopub.execute_input": "2024-04-26T17:56:19.133468Z",
          "iopub.status.idle": "2024-04-26T17:56:19.145461Z",
          "shell.execute_reply.started": "2024-04-26T17:56:19.133438Z",
          "shell.execute_reply": "2024-04-26T17:56:19.144323Z"
        },
        "trusted": true,
        "id": "NiYSStQpUujn",
        "colab": {
          "base_uri": "https://localhost:8080/",
          "height": 53
        },
        "outputId": "6f5dede0-6aab-480b-e9f4-318140247fc0"
      },
      "execution_count": 106,
      "outputs": [
        {
          "output_type": "execute_result",
          "data": {
            "text/plain": [
              "Empty DataFrame\n",
              "Columns: [Pattern, Tag, labels]\n",
              "Index: []"
            ],
            "text/html": [
              "\n",
              "  <div id=\"df-7b250e91-b3ad-4c43-afe5-aac93ac0cf55\" class=\"colab-df-container\">\n",
              "    <div>\n",
              "<style scoped>\n",
              "    .dataframe tbody tr th:only-of-type {\n",
              "        vertical-align: middle;\n",
              "    }\n",
              "\n",
              "    .dataframe tbody tr th {\n",
              "        vertical-align: top;\n",
              "    }\n",
              "\n",
              "    .dataframe thead th {\n",
              "        text-align: right;\n",
              "    }\n",
              "</style>\n",
              "<table border=\"1\" class=\"dataframe\">\n",
              "  <thead>\n",
              "    <tr style=\"text-align: right;\">\n",
              "      <th></th>\n",
              "      <th>Pattern</th>\n",
              "      <th>Tag</th>\n",
              "      <th>labels</th>\n",
              "    </tr>\n",
              "  </thead>\n",
              "  <tbody>\n",
              "  </tbody>\n",
              "</table>\n",
              "</div>\n",
              "    <div class=\"colab-df-buttons\">\n",
              "\n",
              "  <div class=\"colab-df-container\">\n",
              "    <button class=\"colab-df-convert\" onclick=\"convertToInteractive('df-7b250e91-b3ad-4c43-afe5-aac93ac0cf55')\"\n",
              "            title=\"Convert this dataframe to an interactive table.\"\n",
              "            style=\"display:none;\">\n",
              "\n",
              "  <svg xmlns=\"http://www.w3.org/2000/svg\" height=\"24px\" viewBox=\"0 -960 960 960\">\n",
              "    <path d=\"M120-120v-720h720v720H120Zm60-500h600v-160H180v160Zm220 220h160v-160H400v160Zm0 220h160v-160H400v160ZM180-400h160v-160H180v160Zm440 0h160v-160H620v160ZM180-180h160v-160H180v160Zm440 0h160v-160H620v160Z\"/>\n",
              "  </svg>\n",
              "    </button>\n",
              "\n",
              "  <style>\n",
              "    .colab-df-container {\n",
              "      display:flex;\n",
              "      gap: 12px;\n",
              "    }\n",
              "\n",
              "    .colab-df-convert {\n",
              "      background-color: #E8F0FE;\n",
              "      border: none;\n",
              "      border-radius: 50%;\n",
              "      cursor: pointer;\n",
              "      display: none;\n",
              "      fill: #1967D2;\n",
              "      height: 32px;\n",
              "      padding: 0 0 0 0;\n",
              "      width: 32px;\n",
              "    }\n",
              "\n",
              "    .colab-df-convert:hover {\n",
              "      background-color: #E2EBFA;\n",
              "      box-shadow: 0px 1px 2px rgba(60, 64, 67, 0.3), 0px 1px 3px 1px rgba(60, 64, 67, 0.15);\n",
              "      fill: #174EA6;\n",
              "    }\n",
              "\n",
              "    .colab-df-buttons div {\n",
              "      margin-bottom: 4px;\n",
              "    }\n",
              "\n",
              "    [theme=dark] .colab-df-convert {\n",
              "      background-color: #3B4455;\n",
              "      fill: #D2E3FC;\n",
              "    }\n",
              "\n",
              "    [theme=dark] .colab-df-convert:hover {\n",
              "      background-color: #434B5C;\n",
              "      box-shadow: 0px 1px 3px 1px rgba(0, 0, 0, 0.15);\n",
              "      filter: drop-shadow(0px 1px 2px rgba(0, 0, 0, 0.3));\n",
              "      fill: #FFFFFF;\n",
              "    }\n",
              "  </style>\n",
              "\n",
              "    <script>\n",
              "      const buttonEl =\n",
              "        document.querySelector('#df-7b250e91-b3ad-4c43-afe5-aac93ac0cf55 button.colab-df-convert');\n",
              "      buttonEl.style.display =\n",
              "        google.colab.kernel.accessAllowed ? 'block' : 'none';\n",
              "\n",
              "      async function convertToInteractive(key) {\n",
              "        const element = document.querySelector('#df-7b250e91-b3ad-4c43-afe5-aac93ac0cf55');\n",
              "        const dataTable =\n",
              "          await google.colab.kernel.invokeFunction('convertToInteractive',\n",
              "                                                    [key], {});\n",
              "        if (!dataTable) return;\n",
              "\n",
              "        const docLinkHtml = 'Like what you see? Visit the ' +\n",
              "          '<a target=\"_blank\" href=https://colab.research.google.com/notebooks/data_table.ipynb>data table notebook</a>'\n",
              "          + ' to learn more about interactive tables.';\n",
              "        element.innerHTML = '';\n",
              "        dataTable['output_type'] = 'display_data';\n",
              "        await google.colab.output.renderOutput(dataTable, element);\n",
              "        const docLink = document.createElement('div');\n",
              "        docLink.innerHTML = docLinkHtml;\n",
              "        element.appendChild(docLink);\n",
              "      }\n",
              "    </script>\n",
              "  </div>\n",
              "\n",
              "\n",
              "    </div>\n",
              "  </div>\n"
            ],
            "application/vnd.google.colaboratory.intrinsic+json": {
              "type": "dataframe",
              "variable_name": "df2",
              "summary": "{\n  \"name\": \"df2\",\n  \"rows\": 0,\n  \"fields\": [\n    {\n      \"column\": \"Pattern\",\n      \"properties\": {\n        \"dtype\": \"number\",\n        \"std\": null,\n        \"min\": null,\n        \"max\": null,\n        \"num_unique_values\": 0,\n        \"samples\": [],\n        \"semantic_type\": \"\",\n        \"description\": \"\"\n      }\n    },\n    {\n      \"column\": \"Tag\",\n      \"properties\": {\n        \"dtype\": \"number\",\n        \"std\": null,\n        \"min\": null,\n        \"max\": null,\n        \"num_unique_values\": 0,\n        \"samples\": [],\n        \"semantic_type\": \"\",\n        \"description\": \"\"\n      }\n    },\n    {\n      \"column\": \"labels\",\n      \"properties\": {\n        \"dtype\": \"number\",\n        \"std\": null,\n        \"min\": null,\n        \"max\": null,\n        \"num_unique_values\": 0,\n        \"samples\": [],\n        \"semantic_type\": \"\",\n        \"description\": \"\"\n      }\n    }\n  ]\n}"
            }
          },
          "metadata": {},
          "execution_count": 106
        }
      ]
    },
    {
      "cell_type": "markdown",
      "source": [
        "<a id=\"5\"></a>\n",
        "## <b>5 <span style='color:#B21010'>||</span> Split the data into train and test</b>"
      ],
      "metadata": {
        "id": "KbV3d_hTUujn"
      }
    },
    {
      "cell_type": "code",
      "source": [
        "X = list(df2['Pattern'])\n",
        "X[:5]"
      ],
      "metadata": {
        "execution": {
          "iopub.status.busy": "2024-04-26T17:56:31.920054Z",
          "iopub.execute_input": "2024-04-26T17:56:31.92043Z",
          "iopub.status.idle": "2024-04-26T17:56:31.926893Z",
          "shell.execute_reply.started": "2024-04-26T17:56:31.920401Z",
          "shell.execute_reply": "2024-04-26T17:56:31.926114Z"
        },
        "trusted": true,
        "id": "ElwMr8QRUujo",
        "colab": {
          "base_uri": "https://localhost:8080/"
        },
        "outputId": "87878a08-7190-46e2-f214-90ebc6c571d0"
      },
      "execution_count": 107,
      "outputs": [
        {
          "output_type": "execute_result",
          "data": {
            "text/plain": [
              "[]"
            ]
          },
          "metadata": {},
          "execution_count": 107
        }
      ]
    },
    {
      "cell_type": "code",
      "source": [
        "y = list(df2['labels'])\n",
        "y[:5]"
      ],
      "metadata": {
        "execution": {
          "iopub.status.busy": "2024-04-26T17:56:32.907159Z",
          "iopub.execute_input": "2024-04-26T17:56:32.907824Z",
          "iopub.status.idle": "2024-04-26T17:56:32.914453Z",
          "shell.execute_reply.started": "2024-04-26T17:56:32.90779Z",
          "shell.execute_reply": "2024-04-26T17:56:32.91349Z"
        },
        "trusted": true,
        "id": "rFBHLA7QUujo",
        "colab": {
          "base_uri": "https://localhost:8080/"
        },
        "outputId": "7c3cf557-e6f4-4e9e-a3e7-b877ef40accb"
      },
      "execution_count": 108,
      "outputs": [
        {
          "output_type": "execute_result",
          "data": {
            "text/plain": [
              "[]"
            ]
          },
          "metadata": {},
          "execution_count": 108
        }
      ]
    },
    {
      "cell_type": "code",
      "source": [
        "import json\n",
        "import numpy as np\n",
        "import pandas as pd\n",
        "import random\n",
        "from matplotlib import pyplot as plt\n",
        "import seaborn as sns\n",
        "from wordcloud import WordCloud, STOPWORDS\n",
        "import missingno as msno\n",
        "\n",
        "from sklearn.feature_extraction.text import CountVectorizer\n",
        "from sklearn.model_selection import train_test_split\n",
        "from sklearn.metrics import accuracy_score, precision_recall_fscore_support\n",
        "\n",
        "# from keras.preprocessing import text\n",
        "import keras\n",
        "from keras.models import Sequential\n",
        "from keras.layers import Dense, Embedding, LSTM, Dropout\n",
        "from keras.callbacks import ReduceLROnPlateau\n",
        "\n",
        "from tensorflow.keras.preprocessing.sequence import pad_sequences\n",
        "import nltk\n",
        "from nltk import word_tokenize\n",
        "from nltk.stem import PorterStemmer\n",
        "\n",
        "import torch\n",
        "from torch.utils.data import Dataset\n",
        "\n",
        "from transformers import AutoTokenizer, TFAutoModelForSequenceClassification\n",
        "from transformers import pipeline\n",
        "from transformers import DistilBertTokenizerFast\n",
        "from transformers import BertForSequenceClassification, BertTokenizerFast\n",
        "#"
      ],
      "metadata": {
        "id": "mc-2gAZN2t9p"
      },
      "execution_count": 109,
      "outputs": []
    },
    {
      "cell_type": "markdown",
      "source": [
        "<a id=\"6\"></a>\n",
        "## <b>6 <span style='color:#B21010'>||</span> Load BERT Pretrained model and Tokenizer</b>"
      ],
      "metadata": {
        "id": "8weozZe5Uujo"
      }
    },
    {
      "cell_type": "code",
      "source": [
        "import json\n",
        "import pandas as pd\n",
        "# ... (other imports)\n",
        "\n",
        "def load_json_file(filename):\n",
        "    \"\"\"Loads a JSON file and handles potential decoding errors.\n",
        "\n",
        "    Args:\n",
        "        filename (str): Path to the JSON file.\n",
        "\n",
        "    Returns:\n",
        "        dict: Loaded JSON data, or an empty dictionary if decoding fails.\n",
        "    \"\"\"\n",
        "    try:\n",
        "        with open(filename, 'r', encoding='utf-8') as f:  # Add encoding='utf-8'\n",
        "            data = json.load(f)\n",
        "        return data\n",
        "    except json.JSONDecodeError as e:\n",
        "        print(f\"Error decoding JSON file: {e}\")\n",
        "        # You can handle the error by returning an empty dictionary or raising an exception\n",
        "        return {}  # Returning an empty dictionary to avoid halting the execution\n",
        "\n",
        "def create_df():\n",
        "    df = pd.DataFrame({\n",
        "        'Pattern' : [],\n",
        "        'Tag' : []\n",
        "    })\n",
        "    return df\n",
        "\n",
        "filename = '/content/drive/MyDrive/DL for NLP/dialogs.txt'  # Update if your filename is different\n",
        "\n",
        "df = create_df()\n",
        "\n",
        "# Load data and populate DataFrame\n",
        "intents = load_json_file(filename)\n",
        "\n",
        "# Check if 'intents' key exists before accessing it\n",
        "if 'intents' in intents:\n",
        "    for intent in intents['intents']:\n",
        "        for pattern in intent['patterns']:\n",
        "            df.loc[len(df)] = [pattern, intent['tag']]\n",
        "else:\n",
        "    print(f\"Error: 'intents' key not found in the JSON file: {filename}\")"
      ],
      "metadata": {
        "colab": {
          "base_uri": "https://localhost:8080/"
        },
        "id": "nJbSk6Zdt5pc",
        "outputId": "94dd250d-fd8f-4cab-f9d0-937be19750dd"
      },
      "execution_count": 110,
      "outputs": [
        {
          "output_type": "stream",
          "name": "stdout",
          "text": [
            "Error decoding JSON file: Expecting value: line 1 column 1 (char 0)\n",
            "Error: 'intents' key not found in the JSON file: /content/drive/MyDrive/DL for NLP/dialogs.txt\n"
          ]
        }
      ]
    },
    {
      "cell_type": "markdown",
      "source": [
        "<a id=\"7\"></a>\n",
        "## <b>7 <span style='color:#B21010'>||</span> Transform the data into numerical format</b>"
      ],
      "metadata": {
        "id": "KFWX5KLdUujp"
      }
    },
    {
      "cell_type": "code",
      "source": [
        "import json\n",
        "import pandas as pd\n",
        "from sklearn.model_selection import train_test_split\n",
        "from transformers import BertTokenizerFast\n",
        "\n",
        "# ... (other imports)\n",
        "\n",
        "# ... (load_json_file, create_df)\n",
        "\n",
        "filename = '/content/drive/MyDrive/DL for NLP/dialogs.txt'  # Update if your filename is different\n",
        "\n",
        "df = create_df()\n",
        "\n",
        "# Load data and populate DataFrame\n",
        "intents = load_json_file(filename)\n",
        "\n",
        "# Check if 'intents' key exists before accessing it\n",
        "if 'intents' in intents:\n",
        "    for intent in intents['intents']:\n",
        "        for pattern in intent['patterns']:\n",
        "            df.loc[len(df)] = [pattern, intent['tag']]\n",
        "else:\n",
        "    print(f\"Error: 'intents' key not found in the JSON file: {filename}\")\n",
        "\n",
        "\n",
        "# ... (other data"
      ],
      "metadata": {
        "colab": {
          "base_uri": "https://localhost:8080/"
        },
        "id": "yP0pR2dWu_FP",
        "outputId": "207b2f0c-2090-4691-c9f2-40055fa3869c"
      },
      "execution_count": 111,
      "outputs": [
        {
          "output_type": "stream",
          "name": "stdout",
          "text": [
            "Error decoding JSON file: Expecting value: line 1 column 1 (char 0)\n",
            "Error: 'intents' key not found in the JSON file: /content/drive/MyDrive/DL for NLP/dialogs.txt\n"
          ]
        }
      ]
    },
    {
      "cell_type": "markdown",
      "source": [
        "<a id=\"8\"></a>\n",
        "## <b>8 <span style='color:#B21010'>||</span> Build Data Loader</b>\n"
      ],
      "metadata": {
        "id": "nNzba32HUujq"
      }
    },
    {
      "cell_type": "code",
      "source": [
        "class DataLoader(Dataset):\n",
        "\n",
        "    def __init__(self, encodings, labels):\n",
        "\n",
        "        self.encodings = encodings\n",
        "        self.labels = labels\n",
        "\n",
        "    def __getitem__(self, idx):\n",
        "\n",
        "        item = {key: torch.tensor(val[idx]) for key, val in self.encodings.items()}\n",
        "        item['labels'] = torch.tensor(self.labels[idx])\n",
        "        return item\n",
        "\n",
        "    def __len__(self):\n",
        "\n",
        "        return len(self.labels)"
      ],
      "metadata": {
        "execution": {
          "iopub.status.busy": "2024-04-26T17:58:48.5721Z",
          "iopub.execute_input": "2024-04-26T17:58:48.573059Z",
          "iopub.status.idle": "2024-04-26T17:58:48.579734Z",
          "shell.execute_reply.started": "2024-04-26T17:58:48.573022Z",
          "shell.execute_reply": "2024-04-26T17:58:48.578648Z"
        },
        "trusted": true,
        "id": "cocAhOdoUujq"
      },
      "execution_count": 112,
      "outputs": []
    },
    {
      "cell_type": "code",
      "source": [
        "import json\n",
        "import pandas as pd\n",
        "from sklearn.model_selection import train_test_split\n",
        "from transformers import BertTokenizerFast\n",
        "\n",
        "# ... (other imports)\n",
        "\n",
        "# ... (load_json_file, create_df)\n",
        "\n",
        "filename = '/content/drive/MyDrive/DL for NLP/dialogs.txt'  # Update if your filename is different\n",
        "\n",
        "df = create_df()\n",
        "\n",
        "# Load data and populate DataFrame\n",
        "intents = load_json_file(filename)\n",
        "\n",
        "# Check if 'intents' key exists before accessing it\n",
        "if 'intents' in intents:\n",
        "    for intent in intents['intents']:\n",
        "        for pattern in intent['patterns']:\n",
        "            df.loc"
      ],
      "metadata": {
        "colab": {
          "base_uri": "https://localhost:8080/"
        },
        "id": "eT3bouhqverd",
        "outputId": "746ece3c-ec78-433f-cc2a-0f40c04fcd02"
      },
      "execution_count": 113,
      "outputs": [
        {
          "output_type": "stream",
          "name": "stdout",
          "text": [
            "Error decoding JSON file: Expecting value: line 1 column 1 (char 0)\n"
          ]
        }
      ]
    },
    {
      "cell_type": "markdown",
      "source": [
        "<a id=\"9\"></a>\n",
        "## <b>9 <span style='color:#B21010'>||</span> Define Evaluation Metrcies</b>\n"
      ],
      "metadata": {
        "id": "ZOplTFwiUujq"
      }
    },
    {
      "cell_type": "code",
      "source": [
        "def compute_metrics(pred):\n",
        "\n",
        "    labels = pred.label_ids\n",
        "    preds = pred.predictions.argmax(-1)\n",
        "    precision, recall, f1, _ = precision_recall_fscore_support(labels, preds, average='macro')\n",
        "    acc = accuracy_score(labels, preds)\n",
        "\n",
        "    return {\n",
        "        'Accuracy': acc,\n",
        "        'F1': f1,\n",
        "        'Precision': precision,\n",
        "        'Recall': recall\n",
        "    }"
      ],
      "metadata": {
        "execution": {
          "iopub.status.busy": "2024-04-26T17:58:51.95779Z",
          "iopub.execute_input": "2024-04-26T17:58:51.958252Z",
          "iopub.status.idle": "2024-04-26T17:58:51.964683Z",
          "shell.execute_reply.started": "2024-04-26T17:58:51.958201Z",
          "shell.execute_reply": "2024-04-26T17:58:51.963614Z"
        },
        "trusted": true,
        "id": "7kGlTaWzUujq"
      },
      "execution_count": 114,
      "outputs": []
    },
    {
      "cell_type": "markdown",
      "source": [
        "<a id=\"10\"></a>\n",
        "## <b>10 <span style='color:#B21010'>||</span> Define Training Arguments</b>\n"
      ],
      "metadata": {
        "id": "P83-hFvAUujr"
      }
    },
    {
      "cell_type": "code",
      "source": [
        "training_args = TrainingArguments(\n",
        "    output_dir='./output',\n",
        "    do_train=True,\n",
        "    do_eval=True,\n",
        "    num_train_epochs=100,\n",
        "    per_device_train_batch_size=32,\n",
        "    per_device_eval_batch_size=16,\n",
        "    warmup_steps=100,\n",
        "    weight_decay=0.05,\n",
        "    logging_strategy='steps',\n",
        "    logging_dir='./multi-class-logs',\n",
        "    logging_steps=50,\n",
        "    evaluation_strategy=\"steps\",\n",
        "    eval_steps=50,\n",
        "    save_strategy=\"steps\",\n",
        "    load_best_model_at_end=True\n",
        ")"
      ],
      "metadata": {
        "execution": {
          "iopub.status.busy": "2024-04-26T17:59:06.529655Z",
          "iopub.execute_input": "2024-04-26T17:59:06.530048Z",
          "iopub.status.idle": "2024-04-26T17:59:06.607409Z",
          "shell.execute_reply.started": "2024-04-26T17:59:06.530018Z",
          "shell.execute_reply": "2024-04-26T17:59:06.606601Z"
        },
        "trusted": true,
        "id": "_xp6usNMUujr",
        "colab": {
          "base_uri": "https://localhost:8080/"
        },
        "outputId": "42a6876c-b0fc-4df0-d2cf-56b5da850208"
      },
      "execution_count": 115,
      "outputs": [
        {
          "output_type": "stream",
          "name": "stderr",
          "text": [
            "/usr/local/lib/python3.10/dist-packages/transformers/training_args.py:1575: FutureWarning: `evaluation_strategy` is deprecated and will be removed in version 4.46 of 🤗 Transformers. Use `eval_strategy` instead\n",
            "  warnings.warn(\n"
          ]
        }
      ]
    },
    {
      "cell_type": "markdown",
      "source": [
        "<a id=\"11\"></a>\n",
        "## <b>11 <span style='color:#B21010'>||</span> Train the model</b>\n"
      ],
      "metadata": {
        "id": "AGPZ5GcgUujr"
      }
    },
    {
      "cell_type": "code",
      "source": [
        "import json\n",
        "import pandas as pd\n",
        "# ... (other imports)\n",
        "\n",
        "def load_json_file(filename):\n",
        "    \"\"\"Loads a JSON file and handles potential decoding errors.\n",
        "\n",
        "    Args:\n",
        "        filename (str): Path to the JSON file.\n",
        "\n",
        "    Returns:\n",
        "        dict: Loaded JSON data, or an empty dictionary if decoding fails.\n",
        "    \"\"\"\n",
        "    try:\n",
        "        with open(filename, 'r', encoding='utf-8') as f:  # Add encoding='utf-8'\n",
        "            data = json.load(f)\n",
        "        return data\n",
        "    except json.JSONDecodeError as e:\n",
        "        print(f\"Error decoding JSON file: {e}\")\n",
        "        # You can handle the error by returning an empty dictionary or raising an exception\n",
        "        return {}  # Returning an empty dictionary to avoid halting the execution\n",
        "\n",
        "def create_df():\n",
        "    df = pd.DataFrame({\n",
        "        'Pattern' : [],\n",
        "        'Tag' : []\n",
        "    })\n",
        "    return df\n",
        "\n",
        "filename = '/content/drive/MyDrive/DL for NLP/dialogs.txt'  # Update if your filename is"
      ],
      "metadata": {
        "id": "CXIqcLe5w_qS"
      },
      "execution_count": 116,
      "outputs": []
    },
    {
      "cell_type": "markdown",
      "source": [
        "<a id=\"12\"></a>\n",
        "## <b>12 <span style='color:#B21010'>||</span> Evaluate the model</b>\n"
      ],
      "metadata": {
        "id": "6-TO5TLJUujs"
      }
    },
    {
      "cell_type": "code",
      "source": [
        "import json\n",
        "import pandas as pd\n",
        "# ... (other imports)\n",
        "\n",
        "def load_json_file(filename):\n",
        "    \"\"\"Loads a JSON file and handles potential decoding errors.\n",
        "\n",
        "    Args:\n",
        "        filename (str): Path to the JSON file.\n",
        "\n",
        "    Returns:\n",
        "        dict: Loaded JSON data, or an empty dictionary if decoding fails.\n",
        "    \"\"\"\n",
        "    try:\n",
        "        with open(filename, 'r', encoding='utf-8') as f:  # Add encoding='utf-8'\n",
        "            data = json.load(f)\n",
        "        return data\n",
        "    except json.JSONDecodeError as e:\n",
        "        print(f\"Error decoding JSON file: {e}\")\n",
        "        # You can handle the error by returning an empty dictionary or raising an exception\n",
        "        return {}  # Returning an empty dictionary to avoid halting the execution\n",
        "\n",
        "def create_df():\n",
        "    df = pd.DataFrame({\n",
        "        'Pattern' : [],\n",
        "        'Tag' : []\n",
        "    })\n",
        "    return df\n",
        "\n",
        "filename = '/content/drive/MyDrive/DL for NLP/dialogs.txt'  # Update if your filename is"
      ],
      "metadata": {
        "id": "k0I3NgUrxOmq"
      },
      "execution_count": 117,
      "outputs": []
    },
    {
      "cell_type": "code",
      "source": [
        "def predict(text):\n",
        "\n",
        "    inputs = tokenizer(text, padding=True, truncation=True, max_length=512, return_tensors=\"pt\").to(\"cuda\")\n",
        "    outputs = model(**inputs)\n",
        "\n",
        "    probs = outputs[0].softmax(1)\n",
        "    pred_label_idx = probs.argmax()\n",
        "    pred_label = model.config.id2label[pred_label_idx.item()]\n",
        "\n",
        "    return probs, pred_label_idx, pred_label"
      ],
      "metadata": {
        "execution": {
          "iopub.status.busy": "2024-04-26T18:02:49.487252Z",
          "iopub.execute_input": "2024-04-26T18:02:49.487616Z",
          "iopub.status.idle": "2024-04-26T18:02:49.495803Z",
          "shell.execute_reply.started": "2024-04-26T18:02:49.487589Z",
          "shell.execute_reply": "2024-04-26T18:02:49.494925Z"
        },
        "trusted": true,
        "id": "suH_klJbUujs"
      },
      "execution_count": 118,
      "outputs": []
    },
    {
      "cell_type": "code",
      "source": [
        "def predict(text):\n",
        "\n",
        "    inputs = tokenizer(text, padding=True, truncation=True, max_length=512, return_tensors=\"pt\")\n",
        "    outputs = model(**inputs)\n",
        "\n",
        "    probs = outputs[0].softmax(1)\n",
        "    pred_label_idx = probs.argmax()\n",
        "    pred_label = model.config.id2label[pred_label_idx.item()]\n",
        "\n",
        "    return probs, pred_label_idx, pred_label"
      ],
      "metadata": {
        "id": "FsAm1TSWubSa"
      },
      "execution_count": 119,
      "outputs": []
    },
    {
      "cell_type": "code",
      "source": [
        "def predict(text):\n",
        "    inputs = tokenizer(text, padding=True, truncation=True, max_length=512, return_tensors=\"pt\")\n",
        "    # Ensure model is on the correct device if using GPU\n",
        "    inputs = {k: v.to(model.device) for k, v in inputs.items()}\n",
        "    outputs = model(**inputs)\n",
        "\n",
        "    # Check if the output tensor is empty before applying argmax\n",
        "    if outputs[0].numel() == 0:\n",
        "        print(\"Warning: Model produced an empty output tensor.\")\n",
        "        return None, None, None  # Or handle the empty output in a suitable way\n",
        "\n",
        "    probs = outputs[0].softmax(1)\n",
        "    pred_label_idx = probs.argmax()\n",
        "    pred_label = model.config.id2label[pred_label_idx.item()]\n",
        "\n",
        "    return probs, pred_label_idx, pred_label"
      ],
      "metadata": {
        "id": "RLzAAAX6xa3E"
      },
      "execution_count": 120,
      "outputs": []
    },
    {
      "cell_type": "markdown",
      "source": [
        "<a id=\"13\"></a>\n",
        "## <b>13 <span style='color:#B21010'>||</span> Save the model</b>\n"
      ],
      "metadata": {
        "id": "4FSYG9bqUujs"
      }
    },
    {
      "cell_type": "code",
      "source": [
        "import json\n",
        "import pandas as pd\n",
        "# ... (other imports)\n",
        "\n",
        "def load_json_file(filename):\n",
        "    \"\"\"Loads a JSON file and handles potential decoding errors.\n",
        "\n",
        "    Args:\n",
        "        filename (str): Path to the JSON file.\n",
        "\n",
        "    Returns:\n",
        "        dict: Loaded JSON data, or an empty dictionary if decoding fails.\n",
        "    \"\"\"\n",
        "    try:\n",
        "        with open(filename, 'r', encoding='utf-8') as f:  # Add encoding='utf-8'\n",
        "            data = json.load(f)\n",
        "        return data\n",
        "    except json.JSONDecodeError as e:\n",
        "        print(f\"Error decoding JSON file: {e}\")\n",
        "        # You can handle the error by returning an empty dictionary or raising an exception\n",
        "        return {}  # Returning an empty dictionary to avoid halting the execution\n",
        "\n",
        "def create_df():\n",
        "    df = pd.DataFrame({\n",
        "        'Pattern' : [],\n",
        "        'Tag' : []\n",
        "    })\n",
        "    return df\n",
        "\n"
      ],
      "metadata": {
        "id": "bnNeOGERyGYg"
      },
      "execution_count": 121,
      "outputs": []
    },
    {
      "cell_type": "code",
      "source": [
        "!pip install xformers"
      ],
      "metadata": {
        "execution": {
          "iopub.status.busy": "2024-04-26T18:03:00.355569Z",
          "iopub.execute_input": "2024-04-26T18:03:00.355945Z",
          "iopub.status.idle": "2024-04-26T18:05:36.7677Z",
          "shell.execute_reply.started": "2024-04-26T18:03:00.355915Z",
          "shell.execute_reply": "2024-04-26T18:05:36.766438Z"
        },
        "trusted": true,
        "id": "ZlHhlpLXUujt",
        "colab": {
          "base_uri": "https://localhost:8080/"
        },
        "outputId": "3d7dbf1b-7379-4d9c-a183-e16535890e9b"
      },
      "execution_count": 122,
      "outputs": [
        {
          "output_type": "stream",
          "name": "stdout",
          "text": [
            "Requirement already satisfied: xformers in /usr/local/lib/python3.10/dist-packages (0.0.29.post1)\n",
            "Requirement already satisfied: numpy in /usr/local/lib/python3.10/dist-packages (from xformers) (1.26.4)\n",
            "Requirement already satisfied: torch==2.5.1 in /usr/local/lib/python3.10/dist-packages (from xformers) (2.5.1+cu121)\n",
            "Requirement already satisfied: filelock in /usr/local/lib/python3.10/dist-packages (from torch==2.5.1->xformers) (3.16.1)\n",
            "Requirement already satisfied: typing-extensions>=4.8.0 in /usr/local/lib/python3.10/dist-packages (from torch==2.5.1->xformers) (4.12.2)\n",
            "Requirement already satisfied: networkx in /usr/local/lib/python3.10/dist-packages (from torch==2.5.1->xformers) (3.4.2)\n",
            "Requirement already satisfied: jinja2 in /usr/local/lib/python3.10/dist-packages (from torch==2.5.1->xformers) (3.1.4)\n",
            "Requirement already satisfied: fsspec in /usr/local/lib/python3.10/dist-packages (from torch==2.5.1->xformers) (2024.10.0)\n",
            "Requirement already satisfied: sympy==1.13.1 in /usr/local/lib/python3.10/dist-packages (from torch==2.5.1->xformers) (1.13.1)\n",
            "Requirement already satisfied: mpmath<1.4,>=1.1.0 in /usr/local/lib/python3.10/dist-packages (from sympy==1.13.1->torch==2.5.1->xformers) (1.3.0)\n",
            "Requirement already satisfied: MarkupSafe>=2.0 in /usr/local/lib/python3.10/dist-packages (from jinja2->torch==2.5.1->xformers) (3.0.2)\n"
          ]
        }
      ]
    },
    {
      "cell_type": "markdown",
      "source": [
        "<a id=\"14\"></a>\n",
        "## <b>14 <span style='color:#B21010'>||</span> Load the model</b>\n"
      ],
      "metadata": {
        "id": "Vqm37U-2Uujt"
      }
    },
    {
      "cell_type": "code",
      "source": [
        "!pip install --upgrade torch torchvision transformers\n"
      ],
      "metadata": {
        "id": "Aa3aLWJT7C9X",
        "colab": {
          "base_uri": "https://localhost:8080/"
        },
        "outputId": "97f20ada-2610-4fbd-f3d1-0f5f18c419af"
      },
      "execution_count": 123,
      "outputs": [
        {
          "output_type": "stream",
          "name": "stdout",
          "text": [
            "Requirement already satisfied: torch in /usr/local/lib/python3.10/dist-packages (2.5.1+cu121)\n",
            "Requirement already satisfied: torchvision in /usr/local/lib/python3.10/dist-packages (0.20.1+cu121)\n",
            "Requirement already satisfied: transformers in /usr/local/lib/python3.10/dist-packages (4.47.1)\n",
            "Requirement already satisfied: filelock in /usr/local/lib/python3.10/dist-packages (from torch) (3.16.1)\n",
            "Requirement already satisfied: typing-extensions>=4.8.0 in /usr/local/lib/python3.10/dist-packages (from torch) (4.12.2)\n",
            "Requirement already satisfied: networkx in /usr/local/lib/python3.10/dist-packages (from torch) (3.4.2)\n",
            "Requirement already satisfied: jinja2 in /usr/local/lib/python3.10/dist-packages (from torch) (3.1.4)\n",
            "Requirement already satisfied: fsspec in /usr/local/lib/python3.10/dist-packages (from torch) (2024.10.0)\n",
            "Requirement already satisfied: sympy==1.13.1 in /usr/local/lib/python3.10/dist-packages (from torch) (1.13.1)\n",
            "Requirement already satisfied: mpmath<1.4,>=1.1.0 in /usr/local/lib/python3.10/dist-packages (from sympy==1.13.1->torch) (1.3.0)\n",
            "Requirement already satisfied: numpy in /usr/local/lib/python3.10/dist-packages (from torchvision) (1.26.4)\n",
            "Requirement already satisfied: pillow!=8.3.*,>=5.3.0 in /usr/local/lib/python3.10/dist-packages (from torchvision) (11.0.0)\n",
            "Requirement already satisfied: huggingface-hub<1.0,>=0.24.0 in /usr/local/lib/python3.10/dist-packages (from transformers) (0.27.0)\n",
            "Requirement already satisfied: packaging>=20.0 in /usr/local/lib/python3.10/dist-packages (from transformers) (24.2)\n",
            "Requirement already satisfied: pyyaml>=5.1 in /usr/local/lib/python3.10/dist-packages (from transformers) (6.0.2)\n",
            "Requirement already satisfied: regex!=2019.12.17 in /usr/local/lib/python3.10/dist-packages (from transformers) (2024.11.6)\n",
            "Requirement already satisfied: requests in /usr/local/lib/python3.10/dist-packages (from transformers) (2.32.3)\n",
            "Requirement already satisfied: tokenizers<0.22,>=0.21 in /usr/local/lib/python3.10/dist-packages (from transformers) (0.21.0)\n",
            "Requirement already satisfied: safetensors>=0.4.1 in /usr/local/lib/python3.10/dist-packages (from transformers) (0.4.5)\n",
            "Requirement already satisfied: tqdm>=4.27 in /usr/local/lib/python3.10/dist-packages (from transformers) (4.67.1)\n",
            "Requirement already satisfied: MarkupSafe>=2.0 in /usr/local/lib/python3.10/dist-packages (from jinja2->torch) (3.0.2)\n",
            "Requirement already satisfied: charset-normalizer<4,>=2 in /usr/local/lib/python3.10/dist-packages (from requests->transformers) (3.4.0)\n",
            "Requirement already satisfied: idna<4,>=2.5 in /usr/local/lib/python3.10/dist-packages (from requests->transformers) (3.10)\n",
            "Requirement already satisfied: urllib3<3,>=1.21.1 in /usr/local/lib/python3.10/dist-packages (from requests->transformers) (2.2.3)\n",
            "Requirement already satisfied: certifi>=2017.4.17 in /usr/local/lib/python3.10/dist-packages (from requests->transformers) (2024.12.14)\n"
          ]
        }
      ]
    },
    {
      "cell_type": "code",
      "source": [
        "import torch\n",
        "import torchvision\n",
        "from transformers import pipeline, BertForSequenceClassification, BertTokenizerFast\n"
      ],
      "metadata": {
        "id": "mF4rt4D37FQ7"
      },
      "execution_count": 124,
      "outputs": []
    },
    {
      "cell_type": "code",
      "source": [
        "import json\n",
        "import pandas as pd\n",
        "from sklearn.model_selection import train_test_split\n",
        "from transformers import BertTokenizerFast, BertForSequenceClassification, TrainingArguments, Trainer\n",
        "\n",
        "# ... (other imports and functions)\n",
        "\n",
        "# ... (load_json_file, create_df)\n",
        "\n",
        "filename = '/content/drive/MyDrive/DL for NLP/dialogs.txt'  # Update if your filename is different\n",
        "\n",
        "df = create_df()\n",
        "\n",
        "# Load data and populate DataFrame\n",
        "intents = load_json_file(filename)\n",
        "\n",
        "# Check if 'intents' key exists before accessing it\n",
        "if 'intents' in intents:\n",
        "    for intent in intents['intents']:\n",
        "        for pattern in intent['patterns']:\n",
        "            df.loc[len(df)] = [pattern, intent['tag']]\n",
        "else:\n",
        "    print(f\"Error: 'intents' key not found in the JSON file: {filename}\")\n",
        "\n",
        "# ... (other data preprocessing steps)\n",
        "\n",
        "# Load pre-trained tokenizer and model\n",
        "tokenizer = BertTokenizerFast.from_pretrained('bert-base-uncased')\n",
        "model = BertForSequenceClassification.from_pretrained('bert-base-uncased', num_labels=len(label2id)) # Initialize the model\n",
        "\n",
        "# ... (rest of your code, including training and saving)\n",
        "\n",
        "# Save the fine-tuned model to a local directory\n",
        "model.save_pretrained(\"/content/chatbot\")\n",
        "tokenizer.save_pretrained(\"/content/chatbot\")\n",
        "\n",
        "# Update the model_path\n",
        "model_path = \"/content/chatbot\""
      ],
      "metadata": {
        "colab": {
          "base_uri": "https://localhost:8080/"
        },
        "id": "11yrw3Jmb0WX",
        "outputId": "422b6131-e85b-4842-ec68-a9e3ce0d6cb4"
      },
      "execution_count": 125,
      "outputs": [
        {
          "output_type": "stream",
          "name": "stdout",
          "text": [
            "Error decoding JSON file: Expecting value: line 1 column 1 (char 0)\n",
            "Error: 'intents' key not found in the JSON file: /content/drive/MyDrive/DL for NLP/dialogs.txt\n"
          ]
        },
        {
          "output_type": "stream",
          "name": "stderr",
          "text": [
            "Some weights of BertForSequenceClassification were not initialized from the model checkpoint at bert-base-uncased and are newly initialized: ['classifier.bias', 'classifier.weight']\n",
            "You should probably TRAIN this model on a down-stream task to be able to use it for predictions and inference.\n"
          ]
        }
      ]
    },
    {
      "cell_type": "code",
      "source": [
        "def predict(text):\n",
        "    inputs = tokenizer(text, padding=True, truncation=True, max_length=512, return_tensors=\"pt\")\n",
        "    # Ensure model is on the correct device if using GPU\n",
        "    if model.device.type == 'cuda':  # Check if model is on CUDA\n",
        "        inputs = {k: v.to(model.device) for k, v in inputs.items()}\n",
        "    outputs = model(**inputs)\n",
        "\n",
        "    # Check if the output tensor is empty before applying argmax\n",
        "    if outputs[0].numel() == 0:\n",
        "        print(\"Warning: Model produced an empty output tensor.\")\n",
        "        return None, None, None  # Or handle the empty output in a suitable way\n",
        "\n",
        "    probs = outputs[0].softmax(1)\n",
        "    pred_label_idx = probs.argmax()\n",
        "\n",
        "    # Check if id2label is defined in the model config\n",
        "    if hasattr(model.config, 'id2label') and pred_label_idx.item() in model.config.id2label:\n",
        "        pred_label = model.config.id2label[pred_label_idx.item()]\n",
        "    else:\n",
        "        print(\"Warning: id2label mapping is missing or incomplete.\")\n",
        "        pred_label = None  # Or handle the missing mapping in a suitable way\n",
        "\n",
        "    return probs, pred_label_idx, pred_label"
      ],
      "metadata": {
        "id": "B-4DtckC1CEX"
      },
      "execution_count": 126,
      "outputs": []
    },
    {
      "cell_type": "markdown",
      "source": [
        "<a id=\"15\"></a>\n",
        "## <b>15 <span style='color:#B21010'>||</span> Chat with the Chatbot</b>\n"
      ],
      "metadata": {
        "id": "BPcG6vVVUujt"
      }
    },
    {
      "cell_type": "code",
      "source": [
        "def chat(chatbot):\n",
        "\n",
        "    print(\"Chatbot: Hi! I am your virtual assistance,Feel free to ask, and I'll do my best to provide you with answers and assistance..\")\n",
        "    print(\"Type 'quit' to exit the chat\\n\\n\")\n",
        "\n",
        "    text = input(\"User: \").strip().lower()\n",
        "\n",
        "    while(text != 'quit'):\n",
        "\n",
        "        score = chatbot(text)[0]['score']\n",
        "\n",
        "        if score < 0.8:\n",
        "            print(\"Chatbot: Sorry I can't answer that\\n\\n\")\n",
        "            text = input(\"User: \").strip().lower()\n",
        "            continue\n",
        "\n",
        "        label = label2id[chatbot(text)[0]['label']]\n",
        "        response = random.choice(intents['intents'][label]['responses'])\n",
        "\n",
        "        print(f\"Chatbot: {response}\\n\\n\")\n",
        "\n",
        "        text = input(\"User: \").strip().lower()\n"
      ],
      "metadata": {
        "execution": {
          "iopub.status.busy": "2024-04-26T18:05:39.318575Z",
          "iopub.execute_input": "2024-04-26T18:05:39.318875Z",
          "iopub.status.idle": "2024-04-26T18:05:39.327593Z",
          "shell.execute_reply.started": "2024-04-26T18:05:39.318833Z",
          "shell.execute_reply": "2024-04-26T18:05:39.326303Z"
        },
        "trusted": true,
        "id": "IObCYfg8Uuju"
      },
      "execution_count": 127,
      "outputs": []
    },
    {
      "cell_type": "code",
      "source": [
        "# This section loads the necessary libraries\n",
        "from transformers import pipeline, BertTokenizerFast, BertForSequenceClassification\n",
        "# ... other imports\n",
        "# Update the model_path\n",
        "model_path = \"/content/chatbot\"\n",
        "# Load the tokenizer and model\n",
        "tokenizer = BertTokenizerFast.from_pretrained(model_path)\n",
        "model = BertForSequenceClassification.from_pretrained(model_path)\n",
        "\n",
        "# Create a pipeline for text classification, assigning it to 'chatbot"
      ],
      "metadata": {
        "id": "QGEx5I2TcGVu"
      },
      "execution_count": 128,
      "outputs": []
    },
    {
      "cell_type": "code",
      "source": [
        "# This section loads the necessary libraries\n",
        "from transformers import pipeline, BertTokenizerFast, BertForSequenceClassification\n",
        "# ... other imports\n",
        "# Update the model_path\n",
        "model_path = \"/content/chatbot\"\n",
        "# Load the tokenizer and model\n",
        "tokenizer = BertTokenizerFast.from_pretrained(model_path)\n",
        "model = BertForSequenceClassification.from_pretrained(model_path)\n",
        "\n",
        "# Create a pipeline for text classification, assigning it to 'chatbot'\n",
        "chatbot = pipeline(\"text-classification\", model=model, tokenizer=tokenizer) # This line creates and assigns the pipeline"
      ],
      "metadata": {
        "colab": {
          "base_uri": "https://localhost:8080/"
        },
        "id": "uBOxEE9GcYXR",
        "outputId": "62c1421f-82ac-432e-8df9-014338df5e06"
      },
      "execution_count": 129,
      "outputs": [
        {
          "output_type": "stream",
          "name": "stderr",
          "text": [
            "Device set to use cpu\n"
          ]
        }
      ]
    },
    {
      "cell_type": "code",
      "source": [
        "def predict(text):\n",
        "    inputs = tokenizer(text, padding=True, truncation=True, max_length=512, return_tensors=\"pt\")\n",
        "    # Ensure model is on the correct device if using GPU\n",
        "    if model.device.type == 'cuda':  # Check if model is on CUDA\n",
        "        inputs = {k: v.to(model.device) for k, v in inputs.items()}\n",
        "    outputs = model(**inputs)\n",
        "\n",
        "    # Check if the output tensor is empty before applying argmax\n",
        "    if outputs[0].numel() == 0:\n",
        "        print(\"Warning: Model produced an empty output tensor.\")\n",
        "        return None, None, None  # Or handle the empty output in a suitable way\n",
        "\n",
        "    probs = outputs[0].softmax(1)\n",
        "    pred_label_idx = probs.argmax()\n",
        "\n",
        "    # Check if id2label is defined in the model config\n",
        "    if hasattr(model.config, 'id2label') and pred_label_idx.item() in model.config.id2label:\n",
        "        pred_label = model.config.id2label[pred_label_idx.item()]\n",
        "    else:\n",
        "        print(\"Warning: id2label mapping is missing or incomplete.\")\n",
        "        pred_label = None  # Or handle the missing mapping in a suitable way\n",
        "\n",
        "    return probs, pred_label_idx, pred_label\n",
        "\n",
        "def chat(chatbot):\n",
        "\n",
        "    print(\"Chatbot: Hi! I am your virtual assistance,Feel free to ask, and I'll do my best to provide you with answers and assistance..\")\n",
        "    print(\"Type 'quit' to exit the chat\\n\\n\")\n",
        "\n",
        "    text = input(\"User: \").strip().lower()\n",
        "\n",
        "    while(text != 'quit'):\n",
        "        # Call predict function and handle potential empty output\n",
        "        probs, pred_label_idx, pred_label = predict(text)\n",
        "\n",
        "        # Check if prediction was successful\n",
        "        if probs is None:\n",
        "            print(\"Chatbot: Sorry, I couldn't understand your request.\\n\\n\")\n",
        "            text = input(\"User: \").strip().lower()\n",
        "            continue\n",
        "\n",
        "        score = probs[0][pred_label_idx].item()  # Get the score for the predicted label\n",
        "\n",
        "        if score < 0.8:\n",
        "            print(\"Chatbot: Sorry I can't answer that\\n\\n\")\n",
        "            text = input(\"User: \").strip().lower()\n",
        "            continue\n",
        "\n",
        "        # Assuming chatbot(text) returns a list of dictionaries, and you want the 'label' from the first dictionary\n",
        "        label = label2id[pred_label]  # Use the predicted label from predict function\n",
        "        response = random.choice(intents['intents'][label]['responses'])\n",
        "\n",
        "        print(f\"Chatbot: {response}\\n\\n\")\n",
        "\n",
        "        text = input(\"User: \").strip().lower()"
      ],
      "metadata": {
        "id": "ZdT9SFxiee1z"
      },
      "execution_count": 135,
      "outputs": []
    },
    {
      "cell_type": "code",
      "source": [
        "chat(chatbot)"
      ],
      "metadata": {
        "colab": {
          "base_uri": "https://localhost:8080/"
        },
        "id": "aRO6vBkmejyp",
        "outputId": "b3e6a3ba-7cd7-46ab-8b47-602b5d0cec65"
      },
      "execution_count": null,
      "outputs": [
        {
          "output_type": "stream",
          "name": "stdout",
          "text": [
            "Chatbot: Hi! I am your virtual assistance,Feel free to ask, and I'll do my best to provide you with answers and assistance..\n",
            "Type 'quit' to exit the chat\n",
            "\n",
            "\n",
            "User: hi how are you\n",
            "Warning: Model produced an empty output tensor.\n",
            "Chatbot: Sorry, I couldn't understand your request.\n",
            "\n",
            "\n",
            "User: i love this product\n",
            "Warning: Model produced an empty output tensor.\n",
            "Chatbot: Sorry, I couldn't understand your request.\n",
            "\n",
            "\n"
          ]
        }
      ]
    }
  ]
}